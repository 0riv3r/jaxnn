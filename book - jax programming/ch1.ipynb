{
 "cells": [
  {
   "cell_type": "code",
   "execution_count": 1,
   "metadata": {},
   "outputs": [
    {
     "name": "stdout",
     "output_type": "stream",
     "text": [
      "0.4.30\n"
     ]
    }
   ],
   "source": [
    "import jax\n",
    "print(jax.__version__)"
   ]
  },
  {
   "cell_type": "code",
   "execution_count": 2,
   "metadata": {},
   "outputs": [
    {
     "name": "stdout",
     "output_type": "stream",
     "text": [
      "[cuda(id=0)]\n",
      "1\n",
      "[cuda(id=0)]\n",
      "<contextlib._GeneratorContextManager object at 0x7f01e35754c0>\n"
     ]
    }
   ],
   "source": [
    "print(jax.devices())\n",
    "print(jax.device_count())\n",
    "print(jax.local_devices())\n",
    "print(jax.default_device())"
   ]
  },
  {
   "cell_type": "code",
   "execution_count": 3,
   "metadata": {},
   "outputs": [
    {
     "name": "stdout",
     "output_type": "stream",
     "text": [
      "[1 2 3]\n",
      "[1 4 9]\n",
      "[1 4 9]\n"
     ]
    }
   ],
   "source": [
    "import jax.numpy as jnp\n",
    "arr = jnp.array([1, 2, 3])\n",
    "print(arr)\n",
    "# element-wise operations\n",
    "sqrs = arr * arr\n",
    "print(sqrs)\n",
    "sqrs2 = jnp.square(arr)\n",
    "print(sqrs2)"
   ]
  },
  {
   "cell_type": "markdown",
   "metadata": {},
   "source": [
    "### JAX functions and Automatic Differentiation"
   ]
  },
  {
   "cell_type": "code",
   "execution_count": 4,
   "metadata": {},
   "outputs": [
    {
     "name": "stdout",
     "output_type": "stream",
     "text": [
      "Square of 5: 16.0, Gradient at 5: 8.0\n"
     ]
    }
   ],
   "source": [
    "def square(x):\n",
    "  \"\"\" Square a number \"\"\"\n",
    "  return x ** 2\n",
    "\n",
    "n = 4.\n",
    "# Calculate the square of n with autodiff!\n",
    "grad_square = jax.grad(square) # Get the gradient function\n",
    "square_value = square(n)\n",
    "square_grad = grad_square(n) # Calculate the gradient at x = 5.0 - must be float or array for autodiff\n",
    "print(f\"Square of 5: {square_value}, Gradient at 5: {square_grad}\")"
   ]
  },
  {
   "cell_type": "code",
   "execution_count": 5,
   "metadata": {},
   "outputs": [
    {
     "name": "stdout",
     "output_type": "stream",
     "text": [
      "+--------+--------------------+---------------+\n",
      "|   x    |        f(x)        |     f'(x)     |\n",
      "+--------+--------------------+---------------+\n",
      "|  -7.0  |       324.0        |     -495.0    |\n",
      "|  -6.5  |      122.1875      |    -318.25    |\n",
      "|  -6.0  |        0.0         |     -176.0    |\n",
      "| -5.118 | -71.01711857822397 | -0.0006713867 |\n",
      "|  -0.9  |      270.5091      |   1.1739953   |\n",
      "+--------+--------------------+---------------+\n"
     ]
    }
   ],
   "source": [
    "# https://www.youtube.com/watch?v=2uk_pvndOMw\n",
    "\n",
    "from prettytable import PrettyTable\n",
    "\n",
    "def f(x):\n",
    "  return x**4 + 3*x**3 - 36*x**2 - 68*x + 240\n",
    "\n",
    "n_array = [-7., -6.5, -6., -5.118, -0.9]\n",
    "\n",
    "t = PrettyTable([\"x\", \"f(x)\", \"f'(x)\"])\n",
    "for n in n_array:\n",
    "  grad_f = jax.grad(f)\n",
    "  t.add_row([n, f(n), grad_f(n)])\n",
    "print(t)"
   ]
  },
  {
   "cell_type": "markdown",
   "metadata": {},
   "source": [
    "### Vectorized operations, calculations are performed on entire arrays simultaneously "
   ]
  },
  {
   "cell_type": "code",
   "execution_count": 6,
   "metadata": {},
   "outputs": [
    {
     "name": "stdout",
     "output_type": "stream",
     "text": [
      "[0 1 2 3 4 5 6 7 8 9]\n",
      "[2. 2. 2. 2. 2. 2. 2. 2. 2. 2.]\n",
      "[ 2.  3.  4.  5.  6.  7.  8.  9. 10. 11.]\n"
     ]
    }
   ],
   "source": [
    "x = jnp.arange(10) # Array of numbers 0 to 9\n",
    "y = jnp.ones(10)*2 # array of 10 elements, all set to 2\n",
    "# vectorized addition\n",
    "z = x + y\n",
    "print(x)\n",
    "print(y)\n",
    "print(z)"
   ]
  },
  {
   "cell_type": "code",
   "execution_count": null,
   "metadata": {},
   "outputs": [],
   "source": []
  }
 ],
 "metadata": {
  "kernelspec": {
   "display_name": ".venv_p312_jax",
   "language": "python",
   "name": "python3"
  },
  "language_info": {
   "codemirror_mode": {
    "name": "ipython",
    "version": 3
   },
   "file_extension": ".py",
   "mimetype": "text/x-python",
   "name": "python",
   "nbconvert_exporter": "python",
   "pygments_lexer": "ipython3",
   "version": "3.12.4"
  }
 },
 "nbformat": 4,
 "nbformat_minor": 2
}
