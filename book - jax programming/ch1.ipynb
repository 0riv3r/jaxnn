{
 "cells": [
  {
   "cell_type": "code",
   "execution_count": 49,
   "metadata": {},
   "outputs": [
    {
     "name": "stdout",
     "output_type": "stream",
     "text": [
      "0.4.30\n"
     ]
    }
   ],
   "source": [
    "import jax\n",
    "import numpy as np\n",
    "\n",
    "print(jax.__version__)"
   ]
  },
  {
   "cell_type": "code",
   "execution_count": 50,
   "metadata": {},
   "outputs": [
    {
     "name": "stdout",
     "output_type": "stream",
     "text": [
      "[cuda(id=0)]\n",
      "1\n",
      "[cuda(id=0)]\n",
      "<contextlib._GeneratorContextManager object at 0x7f2561406f90>\n"
     ]
    }
   ],
   "source": [
    "print(jax.devices())\n",
    "print(jax.device_count())\n",
    "print(jax.local_devices())\n",
    "print(jax.default_device())"
   ]
  },
  {
   "cell_type": "code",
   "execution_count": 51,
   "metadata": {},
   "outputs": [
    {
     "name": "stdout",
     "output_type": "stream",
     "text": [
      "ar1: [0, 1, 2, 3, 4, 5, 6, 7, 8, 9]\n",
      "npr1: [0 1 2 3 4 5 6 7 8 9]\n"
     ]
    }
   ],
   "source": [
    "ar1 = [x for x in range(10)]\n",
    "print(f\"ar1: {ar1}\")\n",
    "npr1 = np.array(ar1)\n",
    "print(f\"npr1: {npr1}\")"
   ]
  },
  {
   "cell_type": "code",
   "execution_count": 52,
   "metadata": {},
   "outputs": [
    {
     "name": "stdout",
     "output_type": "stream",
     "text": [
      "ar1 * 2: [0, 1, 2, 3, 4, 5, 6, 7, 8, 9, 0, 1, 2, 3, 4, 5, 6, 7, 8, 9]\n",
      "npr1 * 2: [ 0  2  4  6  8 10 12 14 16 18]\n"
     ]
    }
   ],
   "source": [
    "print(f\"ar1 * 2: {ar1 * 2}\")\n",
    "print(f\"npr1 * 2: {npr1 * 2}\")"
   ]
  },
  {
   "cell_type": "code",
   "execution_count": 53,
   "metadata": {},
   "outputs": [
    {
     "name": "stdout",
     "output_type": "stream",
     "text": [
      "ar2: [0, 2, 4, 6, 8]\n",
      "npr2: [0 2 4 6 8]\n",
      "ar1 + ar2: [0, 1, 2, 3, 4, 5, 6, 7, 8, 9, 0, 2, 4, 6, 8]\n",
      "npr3: [1 3 5 7 9]\n",
      "npr1.shape: (10,), npr2.shape: (5,), npr3.shape: (5,)\n",
      "npr2 + npr3: [ 1  5  9 13 17]\n"
     ]
    }
   ],
   "source": [
    "ar2 = [x for x in range(10) if x % 2 == 0]\n",
    "print(f\"ar2: {ar2}\")\n",
    "npr2 = np.array(ar2)\n",
    "print(f\"npr2: {npr2}\")\n",
    "print(f\"ar1 + ar2: {ar1 + ar2}\")\n",
    "# print(f\"npr1 + npr2: {npr1 + npr2}\") # ValueError: operands could not be broadcast together with shapes (10,) (5,)\n",
    "npr3 = np.array([x for x in range(10) if x % 2 > 0])\n",
    "print(f\"npr3: {npr3}\")\n",
    "print(f\"npr1.shape: {npr1.shape}, npr2.shape: {npr2.shape}, npr3.shape: {npr3.shape}\")\n",
    "print(f\"npr2 + npr3: {npr2 + npr3}\")"
   ]
  },
  {
   "cell_type": "code",
   "execution_count": 54,
   "metadata": {},
   "outputs": [
    {
     "name": "stdout",
     "output_type": "stream",
     "text": [
      "npr: [0 2 4 6 8], npr.shape: (5,)\n",
      "npr_row: [[0 2 4 6 8]], npr_row.shape: (1, 5)\n",
      "npr_column: [[0]\n",
      " [2]\n",
      " [4]\n",
      " [6]\n",
      " [8]], npr_column.shape: (5, 1)\n",
      "[[ 0  2  4  6  8]\n",
      " [ 2  4  6  8 10]\n",
      " [ 4  6  8 10 12]\n",
      " [ 6  8 10 12 14]\n",
      " [ 8 10 12 14 16]]\n",
      "[[ 0  0  0  0  0]\n",
      " [ 0  4  8 12 16]\n",
      " [ 0  8 16 24 32]\n",
      " [ 0 12 24 36 48]\n",
      " [ 0 16 32 48 64]]\n"
     ]
    }
   ],
   "source": [
    "npr = np.array([x for x in range(10) if x % 2 == 0])\n",
    "print(f\"npr: {npr}, npr.shape: {npr.shape}\")\n",
    "npr_row = np.array([npr])\n",
    "npr_column = np.array([npr]).T\n",
    "print(f\"npr_row: {npr_row}, npr_row.shape: {npr_row.shape}\")\n",
    "print(f\"npr_column: {npr_column}, npr_column.shape: {npr_column.shape}\")\n",
    "print(npr_row + npr_column)\n",
    "print(npr_row * npr_column)"
   ]
  },
  {
   "cell_type": "code",
   "execution_count": 55,
   "metadata": {},
   "outputs": [
    {
     "name": "stdout",
     "output_type": "stream",
     "text": [
      "npa1: [0 1 2 3 4 5 6 7 8 9]\n",
      "npa1[2:6]: [2 3 4 5]\n"
     ]
    }
   ],
   "source": [
    "npa1 = np.array([x for x in range(10)])\n",
    "print(f\"npa1: {npa1}\")\n",
    "print(f\"npa1[2:6]: {npa1[2:6]}\")"
   ]
  },
  {
   "cell_type": "code",
   "execution_count": 56,
   "metadata": {},
   "outputs": [
    {
     "name": "stdout",
     "output_type": "stream",
     "text": [
      "npr_row[0][1:3]: [2 4]\n",
      "npr_column[1:4][0:3]: [[2]\n",
      " [4]\n",
      " [6]]\n"
     ]
    }
   ],
   "source": [
    "print(f\"npr_row[0][1:3]: {npr_row[0][1:3]}\")\n",
    "print(f\"npr_column[1:4][0:3]: {npr_column[1:4][0:3]}\")"
   ]
  },
  {
   "cell_type": "code",
   "execution_count": 57,
   "metadata": {},
   "outputs": [
    {
     "name": "stdout",
     "output_type": "stream",
     "text": [
      "npa2: [ 0  1  2  3  4  5  6  7  8  9 10 11]\n",
      "npa2.reshape(3,4): \n",
      "[[ 0  1  2  3]\n",
      " [ 4  5  6  7]\n",
      " [ 8  9 10 11]]\n"
     ]
    }
   ],
   "source": [
    "npa2 = np.arange(12)\n",
    "print(f\"npa2: {npa2}\")\n",
    "print(f\"npa2.reshape(3,4): \\n{npa2.reshape(3,4)}\")"
   ]
  },
  {
   "cell_type": "code",
   "execution_count": 58,
   "metadata": {},
   "outputs": [
    {
     "name": "stdout",
     "output_type": "stream",
     "text": [
      "[1 2 3]\n",
      "[1 4 9]\n",
      "[1 4 9]\n"
     ]
    }
   ],
   "source": [
    "import jax.numpy as jnp\n",
    "arr = jnp.array([1, 2, 3])\n",
    "print(arr)\n",
    "# element-wise operations\n",
    "sqrs = arr * arr\n",
    "print(sqrs)\n",
    "sqrs2 = jnp.square(arr)\n",
    "print(sqrs2)"
   ]
  },
  {
   "cell_type": "markdown",
   "metadata": {},
   "source": [
    "### JAX functions and Automatic Differentiation"
   ]
  },
  {
   "cell_type": "code",
   "execution_count": 59,
   "metadata": {},
   "outputs": [
    {
     "name": "stdout",
     "output_type": "stream",
     "text": [
      "Square of 5: 16.0, Gradient at 5: 8.0\n"
     ]
    }
   ],
   "source": [
    "def square(x):\n",
    "  \"\"\" Square a number \"\"\"\n",
    "  return x ** 2\n",
    "\n",
    "n = 4.\n",
    "# Calculate the square of n with autodiff!\n",
    "grad_square = jax.grad(square) # Get the gradient function\n",
    "square_value = square(n)\n",
    "square_grad = grad_square(n) # Calculate the gradient at x = 5.0 - must be float or array for autodiff\n",
    "print(f\"Square of 5: {square_value}, Gradient at 5: {square_grad}\")"
   ]
  },
  {
   "cell_type": "code",
   "execution_count": 60,
   "metadata": {},
   "outputs": [
    {
     "name": "stdout",
     "output_type": "stream",
     "text": [
      "+--------+--------------------+---------------+\n",
      "|   x    |        f(x)        |     f'(x)     |\n",
      "+--------+--------------------+---------------+\n",
      "|  -7.0  |       324.0        |     -495.0    |\n",
      "|  -6.5  |      122.1875      |    -318.25    |\n",
      "|  -6.0  |        0.0         |     -176.0    |\n",
      "| -5.118 | -71.01711857822397 | -0.0006713867 |\n",
      "|  -0.9  |      270.5091      |   1.1739953   |\n",
      "+--------+--------------------+---------------+\n"
     ]
    }
   ],
   "source": [
    "# https://www.youtube.com/watch?v=2uk_pvndOMw\n",
    "\n",
    "from prettytable import PrettyTable\n",
    "\n",
    "def f(x):\n",
    "  return x**4 + 3*x**3 - 36*x**2 - 68*x + 240\n",
    "\n",
    "n_array = [-7., -6.5, -6., -5.118, -0.9]\n",
    "\n",
    "t = PrettyTable([\"x\", \"f(x)\", \"f'(x)\"])\n",
    "for n in n_array:\n",
    "  grad_f = jax.grad(f)\n",
    "  t.add_row([n, f(n), grad_f(n)])\n",
    "print(t)"
   ]
  },
  {
   "cell_type": "markdown",
   "metadata": {},
   "source": [
    "### Vectorized operations, calculations are performed on entire arrays simultaneously "
   ]
  },
  {
   "cell_type": "code",
   "execution_count": 61,
   "metadata": {},
   "outputs": [
    {
     "name": "stdout",
     "output_type": "stream",
     "text": [
      "[0 1 2 3 4 5 6 7 8 9]\n",
      "[2. 2. 2. 2. 2. 2. 2. 2. 2. 2.]\n",
      "[ 2.  3.  4.  5.  6.  7.  8.  9. 10. 11.]\n"
     ]
    }
   ],
   "source": [
    "x = jnp.arange(10) # Array of numbers 0 to 9\n",
    "y = jnp.ones(10)*2 # array of 10 elements, all set to 2\n",
    "# vectorized addition\n",
    "z = x + y\n",
    "print(x)\n",
    "print(y)\n",
    "print(z)"
   ]
  },
  {
   "cell_type": "markdown",
   "metadata": {},
   "source": [
    "## Linear Algebra Operations"
   ]
  },
  {
   "cell_type": "code",
   "execution_count": 78,
   "metadata": {},
   "outputs": [
    {
     "name": "stdout",
     "output_type": "stream",
     "text": [
      "mat1: \n",
      "[[ 0  2  4  6  8 10]\n",
      " [ 1  3  5  7  9 11]]\n",
      "mat2: \n",
      "[[ 0  2  4  6]\n",
      " [ 8 10  1  3]\n",
      " [ 5  7  9 11]]\n",
      "mat2 second row -> mat2[1,:] : \n",
      "[ 8 10  1  3]\n",
      "mat2 second column -> mat2[:,1] : \n",
      "[ 2 10  7]\n",
      "mat2 element at row 2 and column 3 -> mat2[1,2] : \n",
      "1\n"
     ]
    }
   ],
   "source": [
    "# Create matrix\n",
    "mat1 = np.array([[x for x in range(12) if x % 2 == 0], [y for y in range(12) if y % 2 > 0]])\n",
    "print(f\"mat1: \\n{mat1}\")\n",
    "mat2 = mat1.reshape(3,4)\n",
    "print(f\"mat2: \\n{mat2}\")\n",
    "print(f\"mat2 second row -> mat2[1,:] : \\n{mat2[1,:]}\")\n",
    "print(f\"mat2 second column -> mat2[:,1] : \\n{mat2[:,1]}\")\n",
    "print(f\"mat2 element at row 2 and column 3 -> mat2[1,2] : \\n{mat2[1,2]}\")"
   ]
  },
  {
   "cell_type": "code",
   "execution_count": 81,
   "metadata": {},
   "outputs": [
    {
     "name": "stdout",
     "output_type": "stream",
     "text": [
      "npa1: [0 2 4 6 8], npa2: [1 3 5 7 9]\n",
      "npa1 @ npa2: 140\n",
      "npa1.dot(npa2): 140\n"
     ]
    }
   ],
   "source": [
    "npa1 = np.array([x for x in range(10) if x % 2 == 0])\n",
    "npa2 = np.array([x for x in range(10) if x % 2 > 0])\n",
    "print(f\"npa1: {npa1}, npa2: {npa2}\")\n",
    "print(f\"npa1 @ npa2: {npa1 @ npa2}\")\n",
    "print(f\"npa1.dot(npa2): {npa1.dot(npa2)}\")"
   ]
  },
  {
   "cell_type": "code",
   "execution_count": 90,
   "metadata": {},
   "outputs": [
    {
     "name": "stdout",
     "output_type": "stream",
     "text": [
      "mat1: \n",
      "[[0 2 4 6 8]\n",
      " [1 3 5 7 9]]\n",
      "\n",
      "mat2: \n",
      "[[0 1]\n",
      " [2 3]\n",
      " [4 5]\n",
      " [6 7]\n",
      " [8 9]]\n",
      "\n",
      "mat1 @ mat2: \n",
      "[[120 140]\n",
      " [140 165]]\n",
      "\n",
      "mat1.dot(mat2): \n",
      "[[120 140]\n",
      " [140 165]]\n"
     ]
    }
   ],
   "source": [
    "mat1 = np.array([npa1,npa2])\n",
    "mat2 = np.array([npa1,npa2]).T\n",
    "print(f\"mat1: \\n{mat1}\\n\\nmat2: \\n{mat2}\")\n",
    "\n",
    "print(f\"\\nmat1 @ mat2: \\n{mat1 @ mat2}\")\n",
    "print(f\"\\nmat1.dot(mat2): \\n{mat1.dot(mat2)}\")"
   ]
  },
  {
   "cell_type": "markdown",
   "metadata": {},
   "source": [
    "## Data types"
   ]
  },
  {
   "cell_type": "code",
   "execution_count": 103,
   "metadata": {},
   "outputs": [
    {
     "name": "stdout",
     "output_type": "stream",
     "text": [
      "\n",
      "ar_float32: [0. 2. 4. 6. 8.]\n",
      "ar_float32 data type: float32\n",
      "\n",
      "ar_int32: [0 2 4 6 8]\n",
      "ar_int32 data type: int32\n",
      "\n",
      "np.full(3,4),True: \n",
      "[[ True  True  True  True]\n",
      " [ True  True  True  True]\n",
      " [ True  True  True  True]]\n",
      "\n",
      "Data type: \n",
      "bool\n"
     ]
    }
   ],
   "source": [
    "ar_float32 = np.array([x for x in range(10) if x % 2 == 0], dtype=np.float32)\n",
    "ar_int32 = np.array([x for x in range(10) if x % 2 == 0], dtype=np.int32)\n",
    "\n",
    "print(f\"\\nar_float32: {ar_float32}\")\n",
    "print(f\"ar_float32 data type: {ar_float32.dtype}\")\n",
    "print(f\"\\nar_int32: {ar_int32}\")\n",
    "print(f\"ar_int32 data type: {ar_int32.dtype}\")\n",
    "print(f\"\\nnp.full(3,4),True: \\n{np.full((3,4),True, dtype=np.bool)}\")\n",
    "print(f\"\\nData type: \\n{np.full((3,4),True).dtype}\")"
   ]
  },
  {
   "cell_type": "code",
   "execution_count": 105,
   "metadata": {},
   "outputs": [
    {
     "name": "stdout",
     "output_type": "stream",
     "text": [
      "ar_int32: [0 2 4 6 8]\n",
      "ar_float32: [0. 2. 4. 6. 8.]\n"
     ]
    }
   ],
   "source": [
    "ar_int32 = np.array([x for x in range(10) if x % 2 == 0])\n",
    "print(f\"ar_int32: {ar_int32}\")\n",
    "ar_float32 = ar_int32.astype(dtype=np.float32)\n",
    "print(f\"ar_float32: {ar_float32}\")"
   ]
  },
  {
   "cell_type": "code",
   "execution_count": 107,
   "metadata": {},
   "outputs": [
    {
     "name": "stdout",
     "output_type": "stream",
     "text": [
      "mdarr: \n",
      "[[[ 1  2  3]\n",
      "  [ 4  5  6]]\n",
      "\n",
      " [[ 7  8  9]\n",
      "  [10 11 12]]]\n",
      "mdarr.shape: (2, 2, 3)\n"
     ]
    }
   ],
   "source": [
    "mdarr = np.array([[[1,2,3],[4,5,6]],[[7,8,9],[10,11,12]]])\n",
    "print(f\"mdarr: \\n{mdarr}\")\n",
    "print(f\"mdarr.shape: {mdarr.shape}\")"
   ]
  },
  {
   "cell_type": "code",
   "execution_count": 117,
   "metadata": {},
   "outputs": [
    {
     "name": "stdout",
     "output_type": "stream",
     "text": [
      "mdarr first dimention -> mdarr[0]: \n",
      "[[1 2 3]\n",
      " [4 5 6]]\n",
      "mdarr second dimention -> mdarr[1]: \n",
      "[[ 7  8  9]\n",
      " [10 11 12]]\n"
     ]
    }
   ],
   "source": [
    "print(f\"mdarr first dimention -> mdarr[0]: \\n{mdarr[0]}\")\n",
    "print(f\"mdarr second dimention -> mdarr[1]: \\n{mdarr[1]}\")"
   ]
  },
  {
   "cell_type": "code",
   "execution_count": 110,
   "metadata": {},
   "outputs": [
    {
     "data": {
      "image/png": "[encoded data removed]",
      "text/plain": [
       "<Figure size 640x480 with 1 Axes>"
      ]
     },
     "metadata": {},
     "output_type": "display_data"
    }
   ],
   "source": [
    "\n",
    "# importing mplot3d toolkits, numpy and matplotlib\n",
    "from mpl_toolkits import mplot3d\n",
    "import matplotlib.pyplot as plt\n",
    " \n",
    "fig = plt.figure()\n",
    " \n",
    "# syntax for 3-D projection\n",
    "ax = plt.axes(projection ='3d')\n",
    " \n",
    "# defining all 3 axis\n",
    "z = np.linspace(0, 1, 100)\n",
    "x = z * np.sin(25 * z)\n",
    "y = z * np.cos(25 * z)\n",
    " \n",
    "# plotting\n",
    "ax.plot3D(x, y, z, 'green')\n",
    "ax.set_title('3D line plot geeks for geeks')\n",
    "plt.show()"
   ]
  },
  {
   "cell_type": "code",
   "execution_count": null,
   "metadata": {},
   "outputs": [],
   "source": []
  }
 ],
 "metadata": {
  "kernelspec": {
   "display_name": ".venv_p312_jax",
   "language": "python",
   "name": "python3"
  },
  "language_info": {
   "codemirror_mode": {
    "name": "ipython",
    "version": 3
   },
   "file_extension": ".py",
   "mimetype": "text/x-python",
   "name": "python",
   "nbconvert_exporter": "python",
   "pygments_lexer": "ipython3",
   "version": "3.12.4"
  }
 },
 "nbformat": 4,
 "nbformat_minor": 2
}
