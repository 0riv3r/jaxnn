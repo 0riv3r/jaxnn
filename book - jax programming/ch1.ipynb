{
 "cells": [
  {
   "cell_type": "code",
   "execution_count": 1,
   "metadata": {},
   "outputs": [
    {
     "name": "stdout",
     "output_type": "stream",
     "text": [
      "0.4.30\n"
     ]
    }
   ],
   "source": [
    "import jax\n",
    "print(jax.__version__)"
   ]
  },
  {
   "cell_type": "code",
   "execution_count": 2,
   "metadata": {},
   "outputs": [
    {
     "name": "stdout",
     "output_type": "stream",
     "text": [
      "[cuda(id=0)]\n",
      "1\n",
      "[cuda(id=0)]\n",
      "<contextlib._GeneratorContextManager object at 0x7f0362f9d580>\n"
     ]
    }
   ],
   "source": [
    "print(jax.devices())\n",
    "print(jax.device_count())\n",
    "print(jax.local_devices())\n",
    "print(jax.default_device())"
   ]
  }
 ],
 "metadata": {
  "kernelspec": {
   "display_name": ".venv_p312_jax",
   "language": "python",
   "name": "python3"
  },
  "language_info": {
   "codemirror_mode": {
    "name": "ipython",
    "version": 3
   },
   "file_extension": ".py",
   "mimetype": "text/x-python",
   "name": "python",
   "nbconvert_exporter": "python",
   "pygments_lexer": "ipython3",
   "version": "3.12.4"
  }
 },
 "nbformat": 4,
 "nbformat_minor": 2
}
