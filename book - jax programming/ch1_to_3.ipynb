{
 "cells": [
  {
   "cell_type": "code",
   "execution_count": 23,
   "metadata": {},
   "outputs": [
    {
     "name": "stdout",
     "output_type": "stream",
     "text": [
      "0.4.31\n"
     ]
    }
   ],
   "source": [
    "import jax\n",
    "import numpy as np\n",
    "\n",
    "print(jax.__version__)"
   ]
  },
  {
   "cell_type": "code",
   "execution_count": 31,
   "metadata": {},
   "outputs": [
    {
     "name": "stdout",
     "output_type": "stream",
     "text": [
      "[CudaDevice(id=0)]\n",
      "1\n",
      "[CudaDevice(id=0)]\n",
      "<contextlib._GeneratorContextManager object at 0x7fc9cc5a1700>\n",
      "[CudaDevice(id=0)]\n",
      "[CudaDevice(id=0)]\n"
     ]
    }
   ],
   "source": [
    "print(jax.devices())\n",
    "print(jax.device_count())\n",
    "print(jax.local_devices())\n",
    "print(jax.default_device())\n",
    "print(jax.devices(backend='gpu'))\n",
    "print(jax.devices(backend='cuda'))"
   ]
  },
  {
   "cell_type": "code",
   "execution_count": 3,
   "metadata": {},
   "outputs": [
    {
     "name": "stdout",
     "output_type": "stream",
     "text": [
      "ar1: [0, 1, 2, 3, 4, 5, 6, 7, 8, 9]\n",
      "npr1: [0 1 2 3 4 5 6 7 8 9]\n"
     ]
    }
   ],
   "source": [
    "ar1 = [x for x in range(10)]\n",
    "print(f\"ar1: {ar1}\")\n",
    "npr1 = np.array(ar1)\n",
    "print(f\"npr1: {npr1}\")"
   ]
  },
  {
   "cell_type": "code",
   "execution_count": 14,
   "metadata": {},
   "outputs": [
    {
     "name": "stdout",
     "output_type": "stream",
     "text": [
      "ar1 * 2: [0, 1, 2, 3, 4, 5, 6, 7, 8, 9, 0, 1, 2, 3, 4, 5, 6, 7, 8, 9]\n",
      "npr1 * 2: [ 0  2  4  6  8 10 12 14 16 18]\n"
     ]
    }
   ],
   "source": [
    "print(f\"ar1 * 2: {ar1 * 2}\")\n",
    "print(f\"npr1 * 2: {npr1 * 2}\")"
   ]
  },
  {
   "cell_type": "code",
   "execution_count": 37,
   "metadata": {},
   "outputs": [
    {
     "name": "stdout",
     "output_type": "stream",
     "text": [
      "ar2: [0, 2, 4, 6, 8]\n",
      "npr2: [0 2 4 6 8]\n",
      "ar1 + ar2: [0, 1, 2, 3, 4, 5, 6, 7, 8, 9, 0, 2, 4, 6, 8]\n",
      "npr3: [1 3 5 7 9]\n",
      "npr1.shape: (10,), npr2.shape: (5,), npr3.shape: (5,)\n",
      "npr2 + npr3: [ 1  5  9 13 17]\n",
      "ar2 + npr3: [ 1  5  9 13 17]\n",
      "npr3 + ar2: [ 1  5  9 13 17]\n"
     ]
    }
   ],
   "source": [
    "ar2 = [x for x in range(10) if x % 2 == 0]\n",
    "print(f\"ar2: {ar2}\")\n",
    "npr2 = np.array(ar2)\n",
    "print(f\"npr2: {npr2}\")\n",
    "print(f\"ar1 + ar2: {ar1 + ar2}\")\n",
    "# print(f\"npr1 + npr2: {npr1 + npr2}\") # ValueError: operands could not be broadcast together with shapes (10,) (5,)\n",
    "npr3 = np.array([x for x in range(10) if x % 2 == 1])\n",
    "print(f\"npr3: {npr3}\")\n",
    "print(f\"npr1.shape: {npr1.shape}, npr2.shape: {npr2.shape}, npr3.shape: {npr3.shape}\")\n",
    "print(f\"npr2 + npr3: {npr2 + npr3}\")\n",
    "print(f\"ar2 + npr3: {ar2 + npr3}\")\n",
    "print(f\"npr3 + ar2: {npr3 + ar2}\")"
   ]
  },
  {
   "cell_type": "code",
   "execution_count": 39,
   "metadata": {},
   "outputs": [
    {
     "name": "stdout",
     "output_type": "stream",
     "text": [
      "npr: [0 2 4 6 8], npr.shape: (5,)\n",
      "\n",
      "npr_row: [[0 2 4 6 8]] \n",
      "npr_row.shape: (1, 5)\n",
      "\n",
      "npr_column: \n",
      "[[0]\n",
      " [2]\n",
      " [4]\n",
      " [6]\n",
      " [8]] \n",
      "npr_column.shape: (5, 1)\n",
      "\n",
      "[[ 0  2  4  6  8]\n",
      " [ 2  4  6  8 10]\n",
      " [ 4  6  8 10 12]\n",
      " [ 6  8 10 12 14]\n",
      " [ 8 10 12 14 16]]\n",
      "\n",
      "[[ 0  0  0  0  0]\n",
      " [ 0  4  8 12 16]\n",
      " [ 0  8 16 24 32]\n",
      " [ 0 12 24 36 48]\n",
      " [ 0 16 32 48 64]]\n"
     ]
    }
   ],
   "source": [
    "npr = np.array([x for x in range(10) if x % 2 == 0])\n",
    "print(f\"npr: {npr}, npr.shape: {npr.shape}\")\n",
    "npr_row = np.array([npr])\n",
    "npr_column = npr_row.T\n",
    "print(f\"\\nnpr_row: {npr_row} \\nnpr_row.shape: {npr_row.shape}\")\n",
    "print(f\"\\nnpr_column: \\n{npr_column} \\nnpr_column.shape: {npr_column.shape}\\n\")\n",
    "print(npr_row + npr_column)\n",
    "print()\n",
    "print(npr_row * npr_column)"
   ]
  },
  {
   "cell_type": "code",
   "execution_count": 6,
   "metadata": {},
   "outputs": [
    {
     "name": "stdout",
     "output_type": "stream",
     "text": [
      "npa1: [0 1 2 3 4 5 6 7 8 9]\n",
      "npa1[2:6]: [2 3 4 5]\n"
     ]
    }
   ],
   "source": [
    "npa1 = np.array([x for x in range(10)])\n",
    "print(f\"npa1: {npa1}\")\n",
    "print(f\"npa1[2:6]: {npa1[2:6]}\")"
   ]
  },
  {
   "cell_type": "code",
   "execution_count": 59,
   "metadata": {},
   "outputs": [
    {
     "name": "stdout",
     "output_type": "stream",
     "text": [
      "\n",
      "npr_row: [[0 2 4 6 8]]\n",
      "\n",
      "npr_column: \n",
      "[[0]\n",
      " [2]\n",
      " [4]\n",
      " [6]\n",
      " [8]]\n",
      "\n",
      "npr_row[0][1:3]: \n",
      "[2 4]\n",
      "\n",
      "npr_column[1:4]: \n",
      "[[2]\n",
      " [4]\n",
      " [6]]\n",
      "\n",
      "npr_column[0:3]: \n",
      "[[0]\n",
      " [2]\n",
      " [4]]\n"
     ]
    }
   ],
   "source": [
    "print(f\"\\nnpr_row: {npr_row}\")\n",
    "print(f\"\\nnpr_column: \\n{npr_column}\\n\")\n",
    "print(f\"npr_row[0][1:3]: \\n{npr_row[0][1:3]}\")\n",
    "print(f\"\\nnpr_column[1:4]: \\n{npr_column[1:4]}\")\n",
    "print(f\"\\nnpr_column[0:3]: \\n{npr_column[0:3]}\")"
   ]
  },
  {
   "cell_type": "code",
   "execution_count": 8,
   "metadata": {},
   "outputs": [
    {
     "name": "stdout",
     "output_type": "stream",
     "text": [
      "npa2: [ 0  1  2  3  4  5  6  7  8  9 10 11]\n",
      "npa2.reshape(3,4): \n",
      "[[ 0  1  2  3]\n",
      " [ 4  5  6  7]\n",
      " [ 8  9 10 11]]\n"
     ]
    }
   ],
   "source": [
    "npa2 = np.arange(12)\n",
    "print(f\"npa2: {npa2}\")\n",
    "print(f\"npa2.reshape(3,4): \\n{npa2.reshape(3,4)}\")"
   ]
  },
  {
   "cell_type": "code",
   "execution_count": 10,
   "metadata": {},
   "outputs": [
    {
     "name": "stdout",
     "output_type": "stream",
     "text": [
      "[1 2 3]\n",
      "[1 4 9]\n",
      "[1 4 9]\n"
     ]
    }
   ],
   "source": [
    "import jax.numpy as jnp\n",
    "arr = jnp.array([1, 2, 3])\n",
    "print(arr)\n",
    "# element-wise operations\n",
    "sqrs = arr * arr\n",
    "print(sqrs)\n",
    "sqrs2 = jnp.square(arr)\n",
    "print(sqrs2)"
   ]
  },
  {
   "cell_type": "markdown",
   "metadata": {},
   "source": [
    "### JAX functions and Automatic Differentiation"
   ]
  },
  {
   "cell_type": "code",
   "execution_count": 60,
   "metadata": {},
   "outputs": [
    {
     "name": "stdout",
     "output_type": "stream",
     "text": [
      "Square of 5: 25.0, Gradient at 5: 10.0\n"
     ]
    }
   ],
   "source": [
    "def square(x):\n",
    "  \"\"\" Square a number \"\"\"\n",
    "  return x ** 2\n",
    "\n",
    "n = 5.\n",
    "# Calculate the square of n with autodiff!\n",
    "grad_square = jax.grad(square) # Get the gradient function\n",
    "square_value = square(n)\n",
    "square_grad = grad_square(n) # Calculate the gradient at x = 5.0 - must be float or array for autodiff\n",
    "print(f\"Square of 5: {square_value}, Gradient at 5: {square_grad}\")"
   ]
  },
  {
   "cell_type": "code",
   "execution_count": 61,
   "metadata": {},
   "outputs": [
    {
     "name": "stdout",
     "output_type": "stream",
     "text": [
      "+--------+--------------------+---------------+\n",
      "|   x    |        f(x)        |     f'(x)     |\n",
      "+--------+--------------------+---------------+\n",
      "|  -7.0  |       324.0        |     -495.0    |\n",
      "|  -6.5  |      122.1875      |    -318.25    |\n",
      "|  -6.0  |        0.0         |     -176.0    |\n",
      "| -5.118 | -71.01711857822397 | -0.0006713867 |\n",
      "|  -0.9  |      270.5091      |   1.1739953   |\n",
      "+--------+--------------------+---------------+\n"
     ]
    }
   ],
   "source": [
    "# https://www.youtube.com/watch?v=2uk_pvndOMw\n",
    "\n",
    "from prettytable import PrettyTable\n",
    "\n",
    "def f(x):\n",
    "  return x**4 + 3*x**3 - 36*x**2 - 68*x + 240\n",
    "\n",
    "n_array = [-7., -6.5, -6., -5.118, -0.9]\n",
    "\n",
    "grad_f = jax.grad(f)\n",
    "t = PrettyTable([\"x\", \"f(x)\", \"f'(x)\"])\n",
    "for n in n_array:\n",
    "  t.add_row([n, f(n), grad_f(n)])\n",
    "print(t)"
   ]
  },
  {
   "cell_type": "markdown",
   "metadata": {},
   "source": [
    "### Vectorized operations, calculations are performed on entire arrays simultaneously "
   ]
  },
  {
   "cell_type": "code",
   "execution_count": 12,
   "metadata": {},
   "outputs": [
    {
     "name": "stdout",
     "output_type": "stream",
     "text": [
      "[0 1 2 3 4 5 6 7 8 9]\n",
      "[2. 2. 2. 2. 2. 2. 2. 2. 2. 2.]\n",
      "[ 2.  3.  4.  5.  6.  7.  8.  9. 10. 11.]\n"
     ]
    }
   ],
   "source": [
    "x = jnp.arange(10) # Array of numbers 0 to 9\n",
    "y = jnp.ones(10)*2 # array of 10 elements, all set to 2\n",
    "# vectorized addition\n",
    "z = x + y\n",
    "print(x)\n",
    "print(y)\n",
    "print(z)"
   ]
  },
  {
   "cell_type": "markdown",
   "metadata": {},
   "source": [
    "## Linear Algebra Operations"
   ]
  },
  {
   "cell_type": "code",
   "execution_count": 13,
   "metadata": {},
   "outputs": [
    {
     "name": "stdout",
     "output_type": "stream",
     "text": [
      "mat1: \n",
      "[[ 0  2  4  6  8 10]\n",
      " [ 1  3  5  7  9 11]]\n",
      "mat2: \n",
      "[[ 0  2  4  6]\n",
      " [ 8 10  1  3]\n",
      " [ 5  7  9 11]]\n",
      "mat2 second row -> mat2[1,:] : \n",
      "[ 8 10  1  3]\n",
      "mat2 second column -> mat2[:,1] : \n",
      "[ 2 10  7]\n",
      "mat2 element at row 2 and column 3 -> mat2[1,2] : \n",
      "1\n"
     ]
    }
   ],
   "source": [
    "# Create matrix\n",
    "mat1 = np.array([[x for x in range(12) if x % 2 == 0], [y for y in range(12) if y % 2 > 0]])\n",
    "print(f\"mat1: \\n{mat1}\")\n",
    "mat2 = mat1.reshape(3,4)\n",
    "print(f\"mat2: \\n{mat2}\")\n",
    "print(f\"mat2 second row -> mat2[1,:] : \\n{mat2[1,:]}\")\n",
    "print(f\"mat2 second column -> mat2[:,1] : \\n{mat2[:,1]}\")\n",
    "print(f\"mat2 element at row 2 and column 3 -> mat2[1,2] : \\n{mat2[1,2]}\")"
   ]
  },
  {
   "cell_type": "code",
   "execution_count": 15,
   "metadata": {},
   "outputs": [
    {
     "name": "stdout",
     "output_type": "stream",
     "text": [
      "npa1: [0 2 4 6 8], npa2: [1 3 5 7 9]\n",
      "npa1 @ npa2: 140\n",
      "npa1.dot(npa2): 140\n"
     ]
    }
   ],
   "source": [
    "npa1 = np.array([x for x in range(10) if x % 2 == 0])\n",
    "npa2 = np.array([x for x in range(10) if x % 2 > 0])\n",
    "print(f\"npa1: {npa1}, npa2: {npa2}\")\n",
    "print(f\"npa1 @ npa2: {npa1 @ npa2}\")\n",
    "print(f\"npa1.dot(npa2): {npa1.dot(npa2)}\")"
   ]
  },
  {
   "cell_type": "code",
   "execution_count": 72,
   "metadata": {},
   "outputs": [
    {
     "name": "stdout",
     "output_type": "stream",
     "text": [
      "mat1: \n",
      "[[0 2 4 6 8]\n",
      " [1 3 5 7 9]]\n",
      "\n",
      "mat2: \n",
      "[[0 1]\n",
      " [2 3]\n",
      " [4 5]\n",
      " [6 7]\n",
      " [8 9]]\n",
      "\n",
      "mat1 @ mat2: \n",
      "[[120 140]\n",
      " [140 165]]\n",
      "\n",
      "mat1.dot(mat2): \n",
      "[[120 140]\n",
      " [140 165]]\n",
      "\n",
      "mat1 * 3: \n",
      "[[ 0  6 12 18 24]\n",
      " [ 3  9 15 21 27]]\n",
      "\n",
      "mat1.dot(3): \n",
      "[[ 0  6 12 18 24]\n",
      " [ 3  9 15 21 27]]\n"
     ]
    }
   ],
   "source": [
    "mat1 = np.array([npa1,npa2])\n",
    "mat2 = np.array([npa1,npa2]).T\n",
    "print(f\"mat1: \\n{mat1}\\n\\nmat2: \\n{mat2}\")\n",
    "\n",
    "print(f\"\\nmat1 @ mat2: \\n{mat1 @ mat2}\")\n",
    "print(f\"\\nmat1.dot(mat2): \\n{mat1.dot(mat2)}\")\n",
    "\n",
    "# print(f\"\\nmat1 @ [1,2,3,4,5]: \\n{mat1 @ 3}\") #  Error: matmul: Input operand 1 does not have enough dimensions \n",
    "                                               # (has 0, gufunc core with signature (n?,k),(k,m?)->(n?,m?) requires 1\n",
    "print(f\"\\nmat1 * 3: \\n{mat1 * 3}\")\n",
    "print(f\"\\nmat1.dot(3): \\n{mat1.dot(3)}\")"
   ]
  },
  {
   "cell_type": "markdown",
   "metadata": {},
   "source": [
    "## Data types"
   ]
  },
  {
   "cell_type": "code",
   "execution_count": 19,
   "metadata": {},
   "outputs": [
    {
     "name": "stdout",
     "output_type": "stream",
     "text": [
      "\n",
      "ar_float32: [0. 2. 4. 6. 8.]\n",
      "ar_float32 data type: float32\n",
      "\n",
      "ar_int32: [0 2 4 6 8]\n",
      "ar_int32 data type: int32\n",
      "\n",
      "np.full(3,4),True: \n",
      "[[ True  True  True  True]\n",
      " [ True  True  True  True]\n",
      " [ True  True  True  True]]\n",
      "\n",
      "Data type: \n",
      "bool\n"
     ]
    }
   ],
   "source": [
    "ar_float32 = np.array([x for x in range(10) if x % 2 == 0], dtype=np.float32)\n",
    "ar_int32 = np.array([x for x in range(10) if x % 2 == 0], dtype=np.int32)\n",
    "\n",
    "print(f\"\\nar_float32: {ar_float32}\")\n",
    "print(f\"ar_float32 data type: {ar_float32.dtype}\")\n",
    "print(f\"\\nar_int32: {ar_int32}\")\n",
    "print(f\"ar_int32 data type: {ar_int32.dtype}\")\n",
    "print(f\"\\nnp.full(3,4),True: \\n{np.full((3,4),True, dtype=np.bool)}\")\n",
    "print(f\"\\nData type: \\n{np.full((3,4),True).dtype}\")"
   ]
  },
  {
   "cell_type": "code",
   "execution_count": 21,
   "metadata": {},
   "outputs": [
    {
     "name": "stdout",
     "output_type": "stream",
     "text": [
      "ar_int32: [0 2 4 6 8]\n",
      "ar_float32: [0. 2. 4. 6. 8.]\n"
     ]
    }
   ],
   "source": [
    "ar_int32 = np.array([x for x in range(10) if x % 2 == 0])\n",
    "print(f\"ar_int32: {ar_int32}\")\n",
    "ar_float32 = ar_int32.astype(dtype=np.float32)\n",
    "print(f\"ar_float32: {ar_float32}\")"
   ]
  },
  {
   "cell_type": "code",
   "execution_count": 86,
   "metadata": {},
   "outputs": [
    {
     "name": "stdout",
     "output_type": "stream",
     "text": [
      "mdarr: \n",
      "[[[ 1  2  3]\n",
      "  [ 4  5  6]]\n",
      "\n",
      " [[ 7  8  9]\n",
      "  [10 11 12]]]\n",
      "\n",
      "mdarr.shape: (2, 2, 3)\n"
     ]
    }
   ],
   "source": [
    "mdarr = np.array([[[1,2,3],[4,5,6]],[[7,8,9],[10,11,12]]])\n",
    "print(f\"mdarr: \\n{mdarr}\")\n",
    "print(f\"\\nmdarr.shape: {mdarr.shape}\")"
   ]
  },
  {
   "cell_type": "code",
   "execution_count": 101,
   "metadata": {},
   "outputs": [
    {
     "name": "stdout",
     "output_type": "stream",
     "text": [
      "mdarr first dimention -> mdarr[0]: \n",
      "[[1 2 3]\n",
      " [4 5 6]]\n",
      "mdarr second dimention -> mdarr[1]: \n",
      "[[ 7  8  9]\n",
      " [10 11 12]]\n",
      "mdarr first dimention -> mdarr[0,:,:]: \n",
      "[[1 2 3]\n",
      " [4 5 6]]\n",
      "mdarr second dimention -> mdarr[1,:,:]: \n",
      "[[ 7  8  9]\n",
      " [10 11 12]]\n",
      "mdarr second dimention -> mdarr[0][1]: \n",
      "[4 5 6]\n",
      "mdarr second dimention -> mdarr[1][0]: \n",
      "[7 8 9]\n",
      "mdarr second dimention -> mdarr[0,1,:]: \n",
      "[4 5 6]\n",
      "mdarr second dimention -> mdarr[1,0,:]: \n",
      "[7 8 9]\n",
      "mdarr second dimention -> mdarr[1][0][2]: \n",
      "9\n",
      "mdarr second dimention -> mdarr[1,0,2]: \n",
      "9\n"
     ]
    }
   ],
   "source": [
    "print(f\"mdarr first dimention -> mdarr[0]: \\n{mdarr[0]}\")           # mdarr.shape[0] == 2 (0,1)\n",
    "print(f\"mdarr second dimention -> mdarr[1]: \\n{mdarr[1]}\")          # mdarr.shape[0] == 2 (0,1)\n",
    "print(f\"mdarr first dimention -> mdarr[0,:,:]: \\n{mdarr[0,:,:]}\")           # mdarr.shape[0] == 2 (0,1)\n",
    "print(f\"mdarr second dimention -> mdarr[1,:,:]: \\n{mdarr[1,:,:]}\")          # mdarr.shape[0] == 2 (0,1)\n",
    "\n",
    "print(f\"mdarr second dimention -> mdarr[0][1]: \\n{mdarr[0][1]}\")    # mdarr.shape[1] == 2 (0,1)\n",
    "print(f\"mdarr second dimention -> mdarr[1][0]: \\n{mdarr[1][0]}\")    # mdarr.shape[1] == 2 (0,1)\n",
    "\n",
    "print(f\"mdarr second dimention -> mdarr[0,1,:]: \\n{mdarr[0,1,:]}\")    # mdarr.shape[1] == 2 (0,1)\n",
    "print(f\"mdarr second dimention -> mdarr[1,0,:]: \\n{mdarr[1,0,:]}\")    # mdarr.shape[1] == 2 (0,1)\n",
    "\n",
    "print(f\"mdarr second dimention -> mdarr[1][0][2]: \\n{mdarr[1][0][2]}\") # mdarr.shape[2] == 3 (0,1,2)\n",
    "print(f\"mdarr second dimention -> mdarr[1,0,2]: \\n{mdarr[1,0,2]}\") # mdarr.shape[2] == 3 (0,1,2)"
   ]
  },
  {
   "cell_type": "code",
   "execution_count": 93,
   "metadata": {},
   "outputs": [
    {
     "data": {
      "image/png": "[encoded data removed]",
      "text/plain": [
       "<Figure size 640x480 with 2 Axes>"
      ]
     },
     "metadata": {},
     "output_type": "display_data"
    }
   ],
   "source": [
    "import matplotlib.pyplot as plt\n",
    "\n",
    "x = np.indices(mdarr.shape)[0]\n",
    "y = np.indices(mdarr.shape)[1]\n",
    "z = np.indices(mdarr.shape)[2]\n",
    "col = mdarr.flatten()\n",
    "\n",
    "# 3D Plot\n",
    "fig = plt.figure()\n",
    "ax3D = fig.add_subplot(projection='3d')\n",
    "cm = plt.colormaps['brg']\n",
    "p3d = ax3D.scatter(x, y, z, c=col, cmap=cm)\n",
    "plt.colorbar(p3d)\n",
    "\n",
    "plt.show()"
   ]
  },
  {
   "cell_type": "code",
   "execution_count": 96,
   "metadata": {},
   "outputs": [
    {
     "name": "stdout",
     "output_type": "stream",
     "text": [
      "The first 2D slice: \n",
      "[[1 2 3]\n",
      " [4 5 6]]\n",
      "\n",
      "Transpose the first 2D slice: \n",
      "[[1 4]\n",
      " [2 5]\n",
      " [3 6]]\n"
     ]
    }
   ],
   "source": [
    "print(f\"The first 2D slice: \\n{mdarr[0,:,:]}\") \n",
    "print(f\"\\nTranspose the first 2D slice: \\n{mdarr[0,:,:].T}\") "
   ]
  },
  {
   "cell_type": "code",
   "execution_count": 118,
   "metadata": {},
   "outputs": [
    {
     "name": "stdout",
     "output_type": "stream",
     "text": [
      "System of linear equations:\n",
      "\n",
      "------------\n",
      "x + 2y = 4\n",
      "3x − 5y = 1\n",
      "------------\n",
      "\n",
      "Solution:\n",
      "+-----+-----+\n",
      "| Var | Val |\n",
      "+-----+-----+\n",
      "|  x  | 2.0 |\n",
      "|  y  | 1.0 |\n",
      "+-----+-----+\n"
     ]
    }
   ],
   "source": [
    "\"\"\"\n",
    "Solve system of linear equations.\n",
    "\n",
    "example from:\n",
    "https://www.askpython.com/python-modules/numpy/numpy-linalg-solve\n",
    "\"\"\"\n",
    "print(\"System of linear equations:\\n\")\n",
    "print(\"------------\")\n",
    "print('x + 2y = 4')\n",
    "print('3x − 5y = 1')\n",
    "print(\"------------\\n\")\n",
    "#form the matrices from the equations\n",
    "A = np.array([[1,2],[3,-5]])\n",
    "B=np.array([4,1])\n",
    "#function call nd result calculation\n",
    "C=np.linalg.solve(A,B)\n",
    "#display the result\n",
    "print(\"Solution:\")\n",
    "s = PrettyTable([\"Var\",\"Val\"])\n",
    "s.add_row([\"x\", C[0]])\n",
    "s.add_row([\"y\", C[1]])\n",
    "print(s)"
   ]
  },
  {
   "cell_type": "code",
   "execution_count": null,
   "metadata": {},
   "outputs": [],
   "source": []
  }
 ],
 "metadata": {
  "kernelspec": {
   "display_name": ".venv_p312_jax",
   "language": "python",
   "name": "python3"
  },
  "language_info": {
   "codemirror_mode": {
    "name": "ipython",
    "version": 3
   },
   "file_extension": ".py",
   "mimetype": "text/x-python",
   "name": "python",
   "nbconvert_exporter": "python",
   "pygments_lexer": "ipython3",
   "version": "3.12.4"
  }
 },
 "nbformat": 4,
 "nbformat_minor": 2
}
