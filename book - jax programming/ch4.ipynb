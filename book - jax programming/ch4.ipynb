{
 "cells": [
  {
   "cell_type": "code",
   "execution_count": 1,
   "metadata": {},
   "outputs": [
    {
     "name": "stdout",
     "output_type": "stream",
     "text": [
      "0.4.31\n"
     ]
    }
   ],
   "source": [
    "import jax\n",
    "import numpy as np\n",
    "import jax.numpy as jnp\n",
    "\n",
    "print(jax.__version__)"
   ]
  },
  {
   "cell_type": "code",
   "execution_count": 2,
   "metadata": {},
   "outputs": [],
   "source": [
    "# Mutable function\n",
    "def mult_in_place(arr, factor):\n",
    "    arr *= factor # Modifies the input array\n",
    "    return arr\n",
    "\n",
    "# Immutable function\n",
    "def mult(arr, factor):\n",
    "    return arr * factor # Returns a new array"
   ]
  },
  {
   "cell_type": "code",
   "execution_count": 7,
   "metadata": {},
   "outputs": [
    {
     "name": "stdout",
     "output_type": "stream",
     "text": [
      "new_nparr after mult: [2 4 6]\n",
      "input_nparr after mult: [1 2 3]\n",
      "new_nprr2 after mult_in_place: [2 4 6]\n",
      "input_nparr after mult_in_place: [2 4 6]\n"
     ]
    }
   ],
   "source": [
    "input_nparr = np.array([1, 2, 3])\n",
    "factor = 2\n",
    "\n",
    "new_nparr = mult(input_nparr, factor)\n",
    "print(f\"new_nparr after mult: {new_nparr}\") # [2 4 6]\n",
    "print(f\"input_nparr after mult: {input_nparr}\") # [1 2 3]\n",
    "\n",
    "new_nprr2 = mult_in_place(input_nparr, factor)\n",
    "print(f\"new_nprr2 after mult_in_place: {new_nprr2}\") # [2 4 6]\n",
    "print(f\"input_nparr after mult_in_place: {input_nparr}\") # [2 4 6]"
   ]
  },
  {
   "cell_type": "code",
   "execution_count": 8,
   "metadata": {},
   "outputs": [
    {
     "name": "stdout",
     "output_type": "stream",
     "text": [
      "new_jarr after mult: [2 4 6]\n",
      "input_jarr after mult: [1 2 3]\n",
      "new_jarr2 after mult_in_place: [2 4 6]\n",
      "input_jarr after mult_in_place: [1 2 3]\n"
     ]
    }
   ],
   "source": [
    "input_jarr = jnp.array([1, 2, 3])\n",
    "factor = 2\n",
    "\n",
    "new_jarr = mult(input_jarr, factor)\n",
    "print(f\"new_jarr after mult: {new_jarr}\") # [2 4 6]\n",
    "print(f\"input_jarr after mult: {input_jarr}\") # [1 2 3]\n",
    "\n",
    "new_jarr2 = mult_in_place(input_jarr, factor)\n",
    "print(f\"new_jarr2 after mult_in_place: {new_jarr2}\") # [2 4 6]\n",
    "print(f\"input_jarr after mult_in_place: {input_jarr}\") # [1 2 3]"
   ]
  },
  {
   "cell_type": "markdown",
   "metadata": {},
   "source": [
    "### map\n",
    "Applies a function to all elements of an iterable (list, array, etc.) and returns a new iterable with the results."
   ]
  },
  {
   "cell_type": "code",
   "execution_count": 9,
   "metadata": {},
   "outputs": [
    {
     "name": "stdout",
     "output_type": "stream",
     "text": [
      "squared_data_vmap: [ 1  4  9 16]\n",
      "squared_data_vectorized: [ 1  4  9 16]\n"
     ]
    }
   ],
   "source": [
    "\"\"\"\n",
    "a. square is the function to be applied to each element.\n",
    "b. jnp.vectorize(square)(data) applies square to each element of data using vectorization\n",
    "(effciently applying a function to an array).\n",
    "c. squared_data contains the squares of each element in data.\n",
    "\n",
    "Same as jax.vmap(square)(data).\n",
    "\n",
    "vectorize: the inputs are broadcast according to numpy broadcasting rules. \n",
    "vmap: the function is mapped across a single specific axis of the inputs.\n",
    "\n",
    "More info at: https://stackoverflow.com/questions/69099847/jax-vectorization-vmap-and-or-numpy-vectorize\n",
    "\n",
    "\"\"\"\n",
    "\n",
    "def square(x):\n",
    "    return x ** 2\n",
    "\n",
    "data = jnp.array([1, 2, 3, 4])\n",
    "squared_data_vmap = jax.vmap(square)(data)\n",
    "squared_data_vectorized = jnp.vectorize(square)(data)\n",
    "\n",
    "print(f\"squared_data_vmap: {squared_data_vmap}\") # [1 4 9 16]\n",
    "print(f\"squared_data_vectorized: {squared_data_vectorized}\") # [1 4 9 16]"
   ]
  },
  {
   "cell_type": "markdown",
   "metadata": {},
   "source": [
    "### filter\n",
    "Creates a new iterable containing elements from the original iterable that pass a certain test (defined by a function)."
   ]
  },
  {
   "cell_type": "code",
   "execution_count": 33,
   "metadata": {},
   "outputs": [
    {
     "name": "stdout",
     "output_type": "stream",
     "text": [
      "[1 2 3 4 5]\n",
      "[0 2 0 4 0]\n"
     ]
    }
   ],
   "source": [
    "numbers = jnp.array([1,2,3,4,5])\n",
    "print(numbers)\n",
    "print(jnp.where((numbers  % 2) == 0, numbers, 0))"
   ]
  },
  {
   "cell_type": "code",
   "execution_count": 31,
   "metadata": {},
   "outputs": [
    {
     "name": "stdout",
     "output_type": "stream",
     "text": [
      "[0 1 2 3 4 5 6 7 8 9]\n",
      "[0 0 2 0 4 0 6 0 8 0]\n"
     ]
    }
   ],
   "source": [
    "numbers2 = jnp.arange(10)\n",
    "print(numbers2)\n",
    "print(jnp.where((numbers2  % 2) == 0, numbers2, 0))"
   ]
  },
  {
   "cell_type": "markdown",
   "metadata": {},
   "source": [
    "### reduce\n",
    "Applies a function repeatedly to accumulate a single value from an iterable. \n",
    "It takes two arguments: the function and the iterable."
   ]
  },
  {
   "cell_type": "code",
   "execution_count": 35,
   "metadata": {},
   "outputs": [
    {
     "name": "stdout",
     "output_type": "stream",
     "text": [
      "45\n"
     ]
    }
   ],
   "source": [
    "from functools import reduce\n",
    "\n",
    "def add(x, y):\n",
    "    return x + y\n",
    "\n",
    "numbers3 = jnp.arange(10)\n",
    "\"\"\"\n",
    "reduce(add, data, O) starts with the initial value (O) and repeatedly applies add to it\n",
    "and the next element in data, resulting in the total sum.\n",
    "\n",
    "\"\"\"\n",
    "total_sum = reduce(add, numbers3, 0)\n",
    "print(total_sum) # 45"
   ]
  },
  {
   "cell_type": "markdown",
   "metadata": {},
   "source": [
    "### grad\n",
    "Takes a Jax function as input and returns a new function that computes the gradients of\n",
    "the original function with respect to its inputs.      \n",
    "</br>\n",
    "• Scalar Functions:       \n",
    "If f takes a single scalar input and returns a scalar output, the gradient will be a scalar value.      \n",
    "</br>\n",
    "• Vector-valued Functions:       \n",
    "If f takes a vector as input and returns a scalar output, the gradient will be a vector with the same dimensions as the input vector.       \n",
    "Each element represents the partial derivative with respect to the corresponding input element.     \n",
    "</br>\n",
    "• Vector-Valued Outputs:       \n",
    "If f takes a vector as input and returns a vector as output, the gradient will be a matrix.       \n",
    "Each row represents the gradients of the output vector elements with respect to each element of the input vector.      \n",
    "</br>"
   ]
  },
  {
   "cell_type": "code",
   "execution_count": 44,
   "metadata": {},
   "outputs": [
    {
     "name": "stdout",
     "output_type": "stream",
     "text": [
      "input_val: [0. 1. 2. 3. 4. 5. 6. 7. 8. 9.]\n",
      "[ 0.  2.  4.  6.  8. 10. 12. 14. 16. 18.]\n"
     ]
    }
   ],
   "source": [
    "from jax import grad\n",
    "\n",
    "def f(x):\n",
    "    return x ** 2\n",
    "\n",
    "# f_grad is the gradient of f\n",
    "f_grad = grad(f)\n",
    "\n",
    "# Calculate the gradient of f for a specific input\n",
    "input_val = jnp.arange(10, dtype=jnp.float32)\n",
    "print(f\"input_val: {input_val}\") # [0. 1. 2. 3. 4. 5. 6. 7. 8. 9.]\n",
    "\n",
    "# calculate the gradients vector\n",
    "gradients = jnp.vectorize(f_grad)(input_val)\n",
    "print(gradients) # [ 0.  2.  4.  6.  8. 10. 12. 14. 16. 18.]"
   ]
  },
  {
   "cell_type": "code",
   "execution_count": 45,
   "metadata": {},
   "outputs": [
    {
     "name": "stdout",
     "output_type": "stream",
     "text": [
      "input_val: 4.0\n",
      "2.0\n"
     ]
    }
   ],
   "source": [
    "def linear_function(x):\n",
    "    return 2 * x + 1\n",
    "\n",
    "grad_fn = grad(linear_function)\n",
    "input_val = jnp.array(4.0)\n",
    "print(f\"input_val: {input_val}\") # 4.0\n",
    "print(grad_fn(input_val)) # 2.0"
   ]
  },
  {
   "cell_type": "code",
   "execution_count": null,
   "metadata": {},
   "outputs": [],
   "source": []
  }
 ],
 "metadata": {
  "kernelspec": {
   "display_name": "conda-jax",
   "language": "python",
   "name": "python3"
  },
  "language_info": {
   "codemirror_mode": {
    "name": "ipython",
    "version": 3
   },
   "file_extension": ".py",
   "mimetype": "text/x-python",
   "name": "python",
   "nbconvert_exporter": "python",
   "pygments_lexer": "ipython3",
   "version": "3.12.4"
  }
 },
 "nbformat": 4,
 "nbformat_minor": 2
}
