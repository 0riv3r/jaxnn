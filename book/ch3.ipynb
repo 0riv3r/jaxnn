{
 "cells": [
  {
   "cell_type": "code",
   "execution_count": 1,
   "metadata": {},
   "outputs": [
    {
     "name": "stdout",
     "output_type": "stream",
     "text": [
      "0.4.30\n"
     ]
    }
   ],
   "source": [
    "import jax\n",
    "print(jax.__version__)"
   ]
  },
  {
   "cell_type": "markdown",
   "metadata": {},
   "source": [
    "What is gradient:   \n",
    "https://www.youtube.com/watch?v=6zgBUZuC-p8&list=PLg5nrpKdkk2DpW_a-kuHU_FsVPPaU447J"
   ]
  },
  {
   "cell_type": "code",
   "execution_count": 2,
   "metadata": {},
   "outputs": [
    {
     "name": "stdout",
     "output_type": "stream",
     "text": [
      "Gradient at x=2.0: 2.0\n"
     ]
    }
   ],
   "source": [
    "# Automatic Differentiation\n",
    "# Location 329\n",
    "# First code example\n",
    "import jax\n",
    "\n",
    "\"\"\"\n",
    "Jax's 'grad' function calculates the gradient of a function.\n",
    "The function takes two arguments:\n",
    "- the target function to calculate the gradient of\n",
    "- the index of the argument to calculate the gradient with respect to\n",
    "\n",
    "The result of this function ('jax.grad') is a new function ('simple_function_grad') that calculates the gradient of the target function with respect to the specified argument.\n",
    "The result of this new function is the derivative of the target function at the specified point.\n",
    "\"\"\"\n",
    "\n",
    "# define the target function to verify its gradient\n",
    "def simple_function(x):\n",
    "  return 2*x + 9\n",
    "  # return jax.numpy.sin(x)\n",
    "\n",
    "# calculate the gradient of the target function\n",
    "simple_function_grad = jax.grad(simple_function)\n",
    "\n",
    "# Evaluate the gradient at a specific point - the derivative of the function at that point\n",
    "result = simple_function_grad(2.0)  # 3.0 is the point at which the gradient is evaluated\n",
    "print(f\"Gradient at x=2.0: {result}\") # The derivative of the function at the specified point."
   ]
  },
  {
   "cell_type": "code",
   "execution_count": 3,
   "metadata": {},
   "outputs": [
    {
     "name": "stdout",
     "output_type": "stream",
     "text": [
      "Unoptimized matrix multiplication: [[19 22]\n",
      " [43 50]]\n",
      "XLA optimized matrix multiplication: [[19 22]\n",
      " [43 50]]\n"
     ]
    }
   ],
   "source": [
    "\"\"\"\n",
    "Matrix Multiplication using XLA\n",
    "\"\"\"\n",
    "import jax.numpy as jnp\n",
    "import jax\n",
    "\n",
    "def mathmul(A, B):\n",
    "  return (A @ B)\n",
    "\n",
    "@jax.jit\n",
    "def mathmul_jit(A, B): \n",
    "  return (A @ B)\n",
    "\n",
    "A = jnp.array([[1, 2], [3, 4]])\n",
    "B = jnp.array([[5, 6], [7, 8]])\n",
    "\n",
    "# Unoptimized matrix multiplication\n",
    "C = mathmul(A, B)\n",
    "print(f\"Unoptimized matrix multiplication: {C}\")\n",
    "\n",
    "# XLA optimized matrix multiplication\n",
    "D = mathmul_jit(A, B)\n",
    "print(f\"XLA optimized matrix multiplication: {D}\")\n"
   ]
  },
  {
   "cell_type": "code",
   "execution_count": 4,
   "metadata": {},
   "outputs": [],
   "source": [
    "\"\"\"\n",
    "Timing and comparing functions\n",
    "\"\"\"\n",
    "\n",
    "from time import perf_counter\n",
    "\n",
    "def compare(func, n, A, M):\n",
    "\n",
    "  def time_func(func, n, A, M):\n",
    "    for i in range(n):\n",
    "      M = func(A, M)\n",
    "      #print(f\"M: {M}\")\n",
    "    return(func)\n",
    "\n",
    "  # def time_func(func, n, A, M):\n",
    "  #   if n > 0:\n",
    "  #     new_M = func(A, M)\n",
    "  #     time_func(func, n-1, A, new_M)\n",
    "  #   return(func)\n",
    "\n",
    "  t1_start = perf_counter()\n",
    "  used_func = time_func(func, n, A, B)\n",
    "  print(f\"used_func: {used_func}\")\n",
    "  # Stop the stopwatch / counter\n",
    "  t1_stop = perf_counter()\n",
    "\n",
    "  return (t1_stop-t1_start)"
   ]
  },
  {
   "cell_type": "code",
   "execution_count": 5,
   "metadata": {},
   "outputs": [
    {
     "name": "stdout",
     "output_type": "stream",
     "text": [
      "used_func: <function mathmul at 0x00000203866D5580>\n",
      "used_func: <PjitFunction of <function mathmul_jit at 0x00000203866D5620>>\n",
      "unoptimized_function_time: 4.521084500000143 \n",
      "optimized_function_time: 3.287428900002851 \n",
      "Optimization value: 1.2336555999972916\n"
     ]
    }
   ],
   "source": [
    "A = jnp.array([[1, 2], [3, 4]])\n",
    "B = jnp.array([[5, 6], [7, 8]])\n",
    "n = 1000000\n",
    "\n",
    "unoptimized_function_time = compare(mathmul, n, A, B)\n",
    "optimized_function_time = compare(mathmul_jit, n, A, B)\n",
    "\n",
    "print(f\"unoptimized_function_time: {unoptimized_function_time} \")\n",
    "print(f\"optimized_function_time: {optimized_function_time} \")\n",
    "\n",
    "assert(optimized_function_time < unoptimized_function_time)\n",
    "print(f\"Optimization value: {unoptimized_function_time - optimized_function_time}\")"
   ]
  },
  {
   "cell_type": "markdown",
   "metadata": {},
   "source": [
    "## eye (one-hot vector)"
   ]
  },
  {
   "cell_type": "code",
   "execution_count": 6,
   "metadata": {},
   "outputs": [
    {
     "data": {
      "text/plain": [
       "array([[0., 1., 0., 0., 0.],\n",
       "       [0., 0., 0., 0., 1.],\n",
       "       [0., 0., 1., 0., 0.],\n",
       "       [0., 1., 0., 0., 0.],\n",
       "       [1., 0., 0., 0., 0.],\n",
       "       [0., 1., 0., 0., 0.],\n",
       "       [0., 0., 0., 1., 0.],\n",
       "       [0., 0., 1., 0., 0.]])"
      ]
     },
     "execution_count": 6,
     "metadata": {},
     "output_type": "execute_result"
    }
   ],
   "source": [
    "import numpy as np\n",
    "\"\"\"\n",
    "one-hot vector\n",
    "Each number in the target vector is converted into 1 that is placed in its value placement, \n",
    "while all the rest of the row are zeros.\n",
    "np.eye(max-value+1)[vector]\n",
    "\n",
    "\"\"\"\n",
    "v = np.array([1, 4, 2, 1, 0, 1, 3, 2])\n",
    "np.eye(np.max(v)+1)[v]"
   ]
  },
  {
   "cell_type": "markdown",
   "metadata": {},
   "source": [
    "#### one-hot without eye\n",
    "\n",
    "https://wandb.ai/mostafaibrahim17/ml-articles/reports/One-Hot-Encoding-Creating-a-NumPy-Array-Using-Weights-Biases--Vmlldzo2MzQzNTQ5#:~:text=Array%20in%20NumPy-,To%20generate%20one-hot%20encodings%20for%20an%20array%20in%20NumPy,to%20its%20category%20to%201.\n",
    "\n",
    "\n"
   ]
  },
  {
   "cell_type": "code",
   "execution_count": 7,
   "metadata": {},
   "outputs": [
    {
     "data": {
      "text/plain": [
       "array([[0., 0., 0., 0., 0.],\n",
       "       [0., 0., 0., 0., 0.],\n",
       "       [0., 0., 0., 0., 0.],\n",
       "       [0., 0., 0., 0., 0.],\n",
       "       [0., 0., 0., 0., 0.],\n",
       "       [0., 0., 0., 0., 0.],\n",
       "       [0., 0., 0., 0., 0.],\n",
       "       [0., 0., 0., 0., 0.]])"
      ]
     },
     "execution_count": 7,
     "metadata": {},
     "output_type": "execute_result"
    }
   ],
   "source": [
    "v = np.array([1, 4, 2, 1, 0, 1, 3, 2])\n",
    "m = np.zeros((v.size, v.max() + 1))\n",
    "m"
   ]
  },
  {
   "cell_type": "code",
   "execution_count": 9,
   "metadata": {},
   "outputs": [
    {
     "data": {
      "text/plain": [
       "array([0, 1, 2, 3, 4, 5, 6, 7])"
      ]
     },
     "execution_count": 9,
     "metadata": {},
     "output_type": "execute_result"
    }
   ],
   "source": [
    "np.arange(v.size)"
   ]
  },
  {
   "cell_type": "code",
   "execution_count": 8,
   "metadata": {},
   "outputs": [
    {
     "data": {
      "text/plain": [
       "array([[0., 1., 0., 0., 0.],\n",
       "       [0., 0., 0., 0., 1.],\n",
       "       [0., 0., 1., 0., 0.],\n",
       "       [0., 1., 0., 0., 0.],\n",
       "       [1., 0., 0., 0., 0.],\n",
       "       [0., 1., 0., 0., 0.],\n",
       "       [0., 0., 0., 1., 0.],\n",
       "       [0., 0., 1., 0., 0.]])"
      ]
     },
     "execution_count": 8,
     "metadata": {},
     "output_type": "execute_result"
    }
   ],
   "source": [
    "m[np.arange(v.size), v] = 1\n",
    "m"
   ]
  },
  {
   "cell_type": "markdown",
   "metadata": {},
   "source": [
    "m[np.arange(v.size), v] = 1      \n",
    "m[ [0, 1, 2, 3, 4, 5, 6, 7], [1, 4, 2, 1, 0, 1, 3, 2] ] = 1      \n",
    "m[0,1] = 1      \n",
    "m[1,4] = 1      \n",
    "m[2,2] = 1"
   ]
  },
  {
   "cell_type": "markdown",
   "metadata": {},
   "source": [
    "## CH3 Coding Challenge  \n",
    "Matrix Power and XLA optimization    \n",
    "(location 419)"
   ]
  },
  {
   "cell_type": "code",
   "execution_count": 24,
   "metadata": {},
   "outputs": [
    {
     "ename": "TracerIntegerConversionError",
     "evalue": "The __index__() method was called on traced array with shape int32[].\nThe error occurred while tracing the function matrix_power_jit at C:\\Users\\orivlin\\AppData\\Local\\Temp\\ipykernel_25716\\430312805.py:14 for jit. This concrete value was not available in Python because it depends on the value of the argument power.\nSee https://jax.readthedocs.io/en/latest/errors.html#jax.errors.TracerIntegerConversionError",
     "output_type": "error",
     "traceback": [
      "\u001b[1;31m---------------------------------------------------------------------------\u001b[0m",
      "\u001b[1;31mTracerIntegerConversionError\u001b[0m              Traceback (most recent call last)",
      "Cell \u001b[1;32mIn[24], line 23\u001b[0m\n\u001b[0;32m     20\u001b[0m   \u001b[38;5;28;01mreturn\u001b[39;00m result\n\u001b[0;32m     22\u001b[0m power_result_unoptimized \u001b[38;5;241m=\u001b[39m matrix_power(matrix, \u001b[38;5;241m10\u001b[39m)\n\u001b[1;32m---> 23\u001b[0m power_result_optimized \u001b[38;5;241m=\u001b[39m \u001b[43mmatrix_power_jit\u001b[49m\u001b[43m(\u001b[49m\u001b[43mmatrix\u001b[49m\u001b[43m,\u001b[49m\u001b[43m \u001b[49m\u001b[38;5;241;43m10\u001b[39;49m\u001b[43m)\u001b[49m\n\u001b[0;32m     25\u001b[0m \u001b[38;5;28mprint\u001b[39m(\u001b[38;5;124mf\u001b[39m\u001b[38;5;124m\"\u001b[39m\u001b[38;5;124mpower_result_unoptimized: \u001b[39m\u001b[38;5;132;01m{\u001b[39;00mpower_result_unoptimized\u001b[38;5;132;01m}\u001b[39;00m\u001b[38;5;124m\"\u001b[39m)\n\u001b[0;32m     26\u001b[0m \u001b[38;5;28mprint\u001b[39m(\u001b[38;5;124mf\u001b[39m\u001b[38;5;124m\"\u001b[39m\u001b[38;5;124mpower_result_optimized: \u001b[39m\u001b[38;5;132;01m{\u001b[39;00mpower_result_optimized\u001b[38;5;132;01m}\u001b[39;00m\u001b[38;5;124m\"\u001b[39m)\n",
      "    \u001b[1;31m[... skipping hidden 11 frame]\u001b[0m\n",
      "Cell \u001b[1;32mIn[24], line 17\u001b[0m, in \u001b[0;36mmatrix_power_jit\u001b[1;34m(matrix, power)\u001b[0m\n\u001b[0;32m     14\u001b[0m \u001b[38;5;129m@jax\u001b[39m\u001b[38;5;241m.\u001b[39mjit\n\u001b[0;32m     15\u001b[0m \u001b[38;5;28;01mdef\u001b[39;00m \u001b[38;5;21mmatrix_power_jit\u001b[39m(matrix, power):\n\u001b[0;32m     16\u001b[0m   result \u001b[38;5;241m=\u001b[39m jnp\u001b[38;5;241m.\u001b[39meye(matrix\u001b[38;5;241m.\u001b[39mshape[\u001b[38;5;241m0\u001b[39m])\n\u001b[1;32m---> 17\u001b[0m   \u001b[38;5;28;01mfor\u001b[39;00m _ \u001b[38;5;129;01min\u001b[39;00m \u001b[38;5;28;43mrange\u001b[39;49m\u001b[43m(\u001b[49m\u001b[43mpower\u001b[49m\u001b[43m)\u001b[49m:\n\u001b[0;32m     18\u001b[0m   \u001b[38;5;66;03m#for _ in range(10):\u001b[39;00m\n\u001b[0;32m     19\u001b[0m     result \u001b[38;5;241m=\u001b[39m result \u001b[38;5;241m@\u001b[39m matrix\n\u001b[0;32m     20\u001b[0m   \u001b[38;5;28;01mreturn\u001b[39;00m result\n",
      "    \u001b[1;31m[... skipping hidden 1 frame]\u001b[0m\n",
      "File \u001b[1;32mc:\\Users\\orivlin\\workspace\\jaxnn\\venv_p312_jax\\Lib\\site-packages\\jax\\_src\\core.py:1520\u001b[0m, in \u001b[0;36mconcretization_function_error.<locals>.error\u001b[1;34m(self, arg)\u001b[0m\n\u001b[0;32m   1519\u001b[0m \u001b[38;5;28;01mdef\u001b[39;00m \u001b[38;5;21merror\u001b[39m(\u001b[38;5;28mself\u001b[39m, arg):\n\u001b[1;32m-> 1520\u001b[0m   \u001b[38;5;28;01mraise\u001b[39;00m TracerIntegerConversionError(arg)\n",
      "\u001b[1;31mTracerIntegerConversionError\u001b[0m: The __index__() method was called on traced array with shape int32[].\nThe error occurred while tracing the function matrix_power_jit at C:\\Users\\orivlin\\AppData\\Local\\Temp\\ipykernel_25716\\430312805.py:14 for jit. This concrete value was not available in Python because it depends on the value of the argument power.\nSee https://jax.readthedocs.io/en/latest/errors.html#jax.errors.TracerIntegerConversionError"
     ]
    }
   ],
   "source": [
    "import jax\n",
    "import jax.numpy as jnp\n",
    "\n",
    "matrix = jnp.array([[2,3], [1,4]])\n",
    "\n",
    "# Calculate matrix power\n",
    "def matrix_power(matrix, power):\n",
    "  result = jnp.eye(matrix.shape[0])\n",
    "  for _ in range(power):\n",
    "    result = result @ matrix\n",
    "  return result\n",
    "\n",
    "# XLA optimized matrix power using @jax.jit\n",
    "@jax.jit\n",
    "def matrix_power_jit(matrix, power):\n",
    "  result = jnp.eye(matrix.shape[0])\n",
    "\n",
    "  # Due to the following:\n",
    "  # https://jax.readthedocs.io/en/latest/notebooks/Common_Gotchas_in_JAX.html\n",
    "  # https://jax.readthedocs.io/en/latest/faq.html#faq-different-kinds-of-jax-values\n",
    "  # https://jax.readthedocs.io/en/latest/errors.html#jax.errors.TracerIntegerConversionError\n",
    "  # https://jax.readthedocs.io/en/latest/faq.html#how-can-i-convert-a-jax-tracer-to-a-numpy-array\n",
    "  # can't use power here, so using a fixed value of 10\n",
    "  # The error I get:\n",
    "  # \"This concrete value was not available in Python because it depends on the value of the argument power.\"\n",
    "  #for _ in range(power):\n",
    "  for _ in range(10):\n",
    "    result = result @ matrix\n",
    "  return result\n",
    "\n",
    "power_result_unoptimized = matrix_power(matrix, 10)\n",
    "power_result_optimized = matrix_power_jit(matrix, 10)\n",
    "\n",
    "print(f\"power_result_unoptimized: {power_result_unoptimized}\")\n",
    "print(f\"power_result_optimized: {power_result_optimized}\")"
   ]
  },
  {
   "cell_type": "code",
   "execution_count": null,
   "metadata": {},
   "outputs": [],
   "source": []
  }
 ],
 "metadata": {
  "kernelspec": {
   "display_name": "venv_p312_jax",
   "language": "python",
   "name": "venv_p312_jax"
  },
  "language_info": {
   "codemirror_mode": {
    "name": "ipython",
    "version": 3
   },
   "file_extension": ".py",
   "mimetype": "text/x-python",
   "name": "python",
   "nbconvert_exporter": "python",
   "pygments_lexer": "ipython3",
   "version": "3.12.3"
  }
 },
 "nbformat": 4,
 "nbformat_minor": 2
}
