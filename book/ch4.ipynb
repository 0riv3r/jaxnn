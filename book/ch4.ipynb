{
 "cells": [
  {
   "cell_type": "code",
   "execution_count": 1,
   "metadata": {},
   "outputs": [
    {
     "name": "stdout",
     "output_type": "stream",
     "text": [
      "0.4.30\n"
     ]
    }
   ],
   "source": [
    "import jax\n",
    "print(jax.__version__)"
   ]
  },
  {
   "cell_type": "markdown",
   "metadata": {},
   "source": [
    "## Activation Functions"
   ]
  },
  {
   "cell_type": "code",
   "execution_count": 2,
   "metadata": {},
   "outputs": [],
   "source": [
    "import numpy as np"
   ]
  },
  {
   "cell_type": "code",
   "execution_count": 3,
   "metadata": {},
   "outputs": [],
   "source": [
    "\"\"\"\n",
    "Sigmoid function\n",
    "Sigmoid squashes input to a range between O and 1 , fitting well for binary classification tasks.\n",
    "\n",
    "\"\"\"\n",
    "def sigmoid(x):\n",
    "    return 1 / (1 + np.exp(-x))"
   ]
  },
  {
   "cell_type": "code",
   "execution_count": 4,
   "metadata": {},
   "outputs": [],
   "source": [
    "\"\"\"\n",
    "Rectified Linear Unit (ReLU)\n",
    "ReLU is a non-linear activation function that outputs the input directly if it is positive, otherwise, it outputs zero.\n",
    "Enhancing effciency compared to sigmoid.\n",
    "\n",
    "\"\"\"\n",
    "def relu(x):\n",
    "    return np.maximum(0, x)"
   ]
  },
  {
   "cell_type": "code",
   "execution_count": 5,
   "metadata": {},
   "outputs": [],
   "source": [
    "\"\"\"\n",
    "Tanh function\n",
    "Tanh squashes input to a range between -1 and 1, which is useful for classification tasks.\n",
    "(different than Sigmoid that squashes input to a range between O and 1 )\n",
    "\n",
    "\"\"\"\n",
    "def tanh(x):\n",
    "    return np.tanh(x)"
   ]
  },
  {
   "cell_type": "code",
   "execution_count": null,
   "metadata": {},
   "outputs": [],
   "source": [
    "\"\"\"\n",
    "Softmax function\n",
    "Softmax squashes input to a range between O and 1, and the sum of the output is 1.\n",
    "Used in the output layer for multi-class classification, converting outputs into probabilities.\n",
    "\n",
    "\"\"\"\n",
    "def softmax(x):\n",
    "    exps = np.exp(x - np.max(x, axis=1, keepdims=True))\n",
    "    return exps / np.sum(exps, axis=1, keepdims=True)"
   ]
  },
  {
   "cell_type": "markdown",
   "metadata": {},
   "source": [
    "## Backpropagation\n",
    "Unraveling the Gradient Descent Algorithm.    \n",
    "Backpropagation, the engine behind neural network training, iteratively adjusts weights and biases to minimize the\n",
    "error between predicted and actual outputs.\n"
   ]
  },
  {
   "cell_type": "code",
   "execution_count": 6,
   "metadata": {},
   "outputs": [],
   "source": [
    "# Assuming a simple neural network with one hidden layer\n",
    "def backpropagation(inputs, targets, weights_input_hidden, weights_hidden_output):\n",
    "  # Forward pass\n",
    "  hidden_inputs = np.dot(inputs, weights_input_hidden)\n",
    "  hidden_outputs = sigmoid(hidden_inputs)\n",
    "\n",
    "  final_inputs = np.dot(hidden_outputs, weights_hidden_output)\n",
    "  final_outputs = sigmoid(final_inputs)\n",
    "\n",
    "  # Calculate error\n",
    "  output_errors = targets - final_outputs\n",
    "\n",
    "  # Backward pass\n",
    "  output_grad = final_outputs * (1 - final_outputs) * output_errors\n",
    "  hidden_errors = np.dot(output_grad, weights_hidden_output.T)\n",
    "  hidden_grad = hidden_outputs * (1 - hidden_outputs) * hidden_errors\n",
    "\n",
    "  # Update weights and biases\n",
    "  weights_hidden_output += np.dot(hidden_outputs.T, output_grad)\n",
    "  weights_input_hidden += np.dot(inputs.T, hidden_grad)"
   ]
  },
  {
   "cell_type": "markdown",
   "metadata": {},
   "source": [
    "## Optimization techniques"
   ]
  },
  {
   "cell_type": "markdown",
   "metadata": {},
   "source": [
    "### Stochastic Gradient Descent (SGD)\n",
    "Stochastic Gradient Descent (SGD) is an optimization algorithm used to minimize a function by iteratively moving towards the minimum value of the function.     \n",
    "It is particularly useful for training machine learning models.     \n",
    "The primary goal of gradient descent is to identify the model parameters that provide the maximum accuracy on both training and test datasets.     \n",
    "Unlike traditional Gradient Descent, which uses the entire dataset to compute the gradient of the loss function,    \n",
    "SGD randomly selects a subset of data at each step.     \n",
    "This makes SGD faster and more scalable for large datasets, though it may introduce more noise into the optimization process."
   ]
  },
  {
   "cell_type": "code",
   "execution_count": 9,
   "metadata": {},
   "outputs": [],
   "source": [
    "# Stochastic Gradient Descent SGD optimizer\n",
    "def sgd_optimizer(inputs, targets, learning_rate=0.01, epochs=100):\n",
    "  for epoch in range(epochs):\n",
    "    for i in range(len(inputs)):\n",
    "      # Forward pass\n",
    "      # Backward pass and update weights\n",
    "      print('.', end='')"
   ]
  },
  {
   "cell_type": "markdown",
   "metadata": {},
   "source": [
    "### Momentum\n",
    "A training optimization technique used to accelerate the convergence of gradient descent algorithms.    \n",
    "It helps to speed up the learning process by incorporating the direction and velocity of the previous gradients into the current update.    \n",
    "Essentially, it adds a fraction of the previous update step to the current update step,    \n",
    "allowing the algorithm to move faster through shallow regions and dampening oscillations in steep regions.     \n",
    "This technique is inspired by the physical concept of momentum, where an object in motion tends to stay in motion.    \n",
    "In the context of neural network training, it helps to overcome some of the limitations of standard gradient descent    \n",
    "by making the path towards the minimum more direct and thus potentially reducing the number of iterations needed to reach convergence.\n"
   ]
  },
  {
   "cell_type": "code",
   "execution_count": null,
   "metadata": {},
   "outputs": [],
   "source": [
    "def momentum_optimizer(inputs, targets, learning_rate=0.01, epochs=100, momentum=0.9):\n",
    "  velocity = 0\n",
    "  for epoch in range(epochs):\n",
    "    for i in range(len(inputs)):\n",
    "      # Forward pass\n",
    "      # Backward pass and update weights\n",
    "      velocity = momentum * velocity + learning_rate * gradient"
   ]
  },
  {
   "cell_type": "markdown",
   "metadata": {},
   "source": [
    "### Adaptive Learning Rate\n",
    "A training optimization technique that adjusts the learning rate dynamically during the training of a model.    \n",
    "Unlike fixed learning rate strategies, adaptive methods modify the learning rate for each parameter,    \n",
    "based on the history of gradients for that parameter.     \n",
    "This approach helps in addressing issues like choosing an appropriate learning rate or adjusting it during training,     \n",
    "which can significantly affect the convergence speed and quality of the final model.    \n",
    "Techniques such as AdaGrad, RMSprop, and Adam are examples of adaptive learning rate methods.     \n",
    "They aim to decrease the learning rate for parameters with large gradients to avoid overshooting and   \n",
    "increase it for parameters with small gradients to speed up the learning process.    \n",
    "This results in a more efficient and effective training process, especially for complex models and large datasets."
   ]
  },
  {
   "cell_type": "code",
   "execution_count": 10,
   "metadata": {},
   "outputs": [],
   "source": [
    "def adaptive_learning_rate_optimizer(inputs, targets, learning_rate=0.01, epochs=100):\n",
    "  for epoch in range(epochs):\n",
    "    for i in range(len(inputs)):\n",
    "      # Forward pass\n",
    "      # Backward pass and update weights\n",
    "      learning_rate *= 1.0/(1.0 + learning_rate * epoch)"
   ]
  },
  {
   "cell_type": "markdown",
   "metadata": {},
   "source": [
    "### Regularization Technique\n",
    "A training optimization technique used to prevent overfitting in machine learning models.     \n",
    "Overfitting occurs when a model learns the training data too well,     \n",
    "capturing noise along with the underlying patterns, which results in poor performance on new, unseen data.     \n",
    "Regularization addresses this issue by adding a penalty on the size of the model parameters to the loss function.     \n",
    "This penalty encourages the model to keep the weights small, which can lead to simpler models that generalize better to new data.     \n",
    "</br>\n",
    "There are several types of regularization techniques, including:     \n",
    "</br>\n",
    "L1 Regularization (Lasso): Adds a penalty equal to the absolute value of the magnitude of coefficients.     \n",
    "This can lead to sparse models where some weights can become zero, effectively performing feature selection.    \n",
    "</br>\n",
    "L2 Regularization (Ridge): Adds a penalty equal to the square of the magnitude of coefficients.     \n",
    "This discourages large weights but does not necessarily drive them to zero.    \n",
    "</br>\n",
    "Elastic Net: Combines L1 and L2 regularization, adding both penalties to the loss function.    \n",
    "This method enjoys the feature selection property of L1 and the smoothing of L2 regularization.   \n",
    "</br>\n",
    "Regularization techniques are widely used in linear regression, logistic regression, neural networks, and     \n",
    "many other machine learning algorithms to improve their generalization capabilities."
   ]
  },
  {
   "cell_type": "code",
   "execution_count": 11,
   "metadata": {},
   "outputs": [],
   "source": [
    "def dropout(inputs, dropout_rate=0.2):\n",
    "  mask = (np.random.rand(*inputs.shape) < 1.0 - dropout_rate) / (1.0 - dropout_rate)\n",
    "  return inputs * mask\n",
    "\n",
    "def weight_decay(weights, decay_rate=0.001):\n",
    "  return weights - decay_rate * weights"
   ]
  },
  {
   "cell_type": "code",
   "execution_count": null,
   "metadata": {},
   "outputs": [],
   "source": []
  }
 ],
 "metadata": {
  "kernelspec": {
   "display_name": "venv_p312_jax",
   "language": "python",
   "name": "venv_p312_jax"
  },
  "language_info": {
   "codemirror_mode": {
    "name": "ipython",
    "version": 3
   },
   "file_extension": ".py",
   "mimetype": "text/x-python",
   "name": "python",
   "nbconvert_exporter": "python",
   "pygments_lexer": "ipython3",
   "version": "3.12.3"
  }
 },
 "nbformat": 4,
 "nbformat_minor": 2
}
