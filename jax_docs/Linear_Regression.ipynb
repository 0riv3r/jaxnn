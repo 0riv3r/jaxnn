{
 "cells": [
  {
   "cell_type": "markdown",
   "metadata": {},
   "source": [
    "# Linear Regression with JAX"
   ]
  },
  {
   "cell_type": "markdown",
   "metadata": {},
   "source": [
    "## Resources\n",
    "https://coax.readthedocs.io/en/latest/examples/linear_regression/jax.html     \n",
    "https://www.youtube.com/watch?v=aOsZdf9tiNQ    \n"
   ]
  },
  {
   "cell_type": "code",
   "execution_count": 2,
   "metadata": {},
   "outputs": [],
   "source": [
    "import jax\n",
    "import jax.numpy as jnp\n",
    "from sklearn.datasets import make_regression\n",
    "from sklearn.model_selection import train_test_split"
   ]
  },
  {
   "cell_type": "code",
   "execution_count": 6,
   "metadata": {},
   "outputs": [
    {
     "name": "stdout",
     "output_type": "stream",
     "text": [
      "X.shape: (100, 3), y.shape: (100,)\n",
      "X_test.shape: (25, 3), y_test.shape: (25,)\n",
      "X[:5]:\n",
      "[[-1.02693272 -0.61965346  0.79635043]\n",
      " [ 1.31763649  0.0146806  -0.19200161]\n",
      " [-0.80849802 -0.27264047 -0.19800573]\n",
      " [-0.06227385  0.51198102  0.77566437]\n",
      " [ 0.13687259 -0.23795419  0.50641083]]\n",
      "y[:5]:\n",
      " [ 28.89022652  25.63730128 -42.84691442  63.86981837  43.92067942]\n"
     ]
    }
   ],
   "source": [
    "# The dataset\n",
    "X, y = make_regression(n_features=3)\n",
    "print(f\"X.shape: {X.shape}, y.shape: {y.shape}\")\n",
    "X, X_test, y, y_test = train_test_split(X, y)\n",
    "print(f\"X_test.shape: {X_test.shape}, y_test.shape: {y_test.shape}\")\n",
    "print(f\"X[:5]:\\n{X[:5]}\") # X first 5 rows\n",
    "print(f\"y[:5]:\\n {y[:5]}\") # y first 5 rows"
   ]
  },
  {
   "cell_type": "markdown",
   "metadata": {},
   "source": [
    "## At 2:18\n",
    "https://www.youtube.com/watch?v=aOsZdf9tiNQ"
   ]
  },
  {
   "cell_type": "code",
   "execution_count": 1,
   "metadata": {},
   "outputs": [
    {
     "name": "stdout",
     "output_type": "stream",
     "text": [
      "6324.3447\n",
      "4989.4507\n",
      "3943.51\n",
      "3122.6614\n",
      "2477.3916\n",
      "1969.2719\n",
      "1568.4434\n",
      "1251.6764\n",
      "1000.876\n",
      "801.92834\n",
      "643.8087\n",
      "517.8933\n",
      "417.4257\n",
      "337.1038\n",
      "272.76065\n",
      "221.11526\n",
      "179.58002\n",
      "146.11037\n",
      "119.088\n",
      "97.22909\n",
      "79.5139\n",
      "65.13061\n",
      "53.431522\n",
      "43.89912\n",
      "36.11886\n",
      "29.758179\n",
      "24.549862\n",
      "20.278547\n",
      "16.770483\n",
      "13.885185\n",
      "11.508829\n",
      "9.549117\n",
      "7.93093\n",
      "6.593188\n",
      "5.48601\n",
      "4.568626\n",
      "3.807761\n",
      "3.176043\n",
      "2.6510909\n",
      "2.2144372\n",
      "1.850931\n",
      "1.5480798\n",
      "1.2955558\n",
      "1.0848532\n",
      "0.90891266\n",
      "0.7619066\n",
      "0.6389973\n",
      "0.5361677\n",
      "0.45008776\n",
      "0.3779931\n",
      "0.31757948\n",
      "0.2669247\n",
      "0.22443938\n",
      "0.1887836\n",
      "0.1588459\n",
      "0.13370165\n",
      "0.112573184\n",
      "0.0948128\n",
      "0.07987784\n",
      "0.067315154\n",
      "0.056745518\n",
      "0.047846146\n",
      "0.040352724\n",
      "0.03404078\n",
      "0.028723419\n",
      "0.02424269\n",
      "0.020465327\n",
      "0.01727943\n",
      "0.014593503\n",
      "0.012327169\n",
      "0.010414496\n",
      "0.008800519\n",
      "0.007437313\n",
      "0.0062866476\n",
      "0.005315062\n",
      "0.0044939225\n",
      "0.0038006522\n",
      "0.0032144056\n",
      "0.00271894\n",
      "0.0023002422\n",
      "0.0019464453\n",
      "0.0016471745\n",
      "0.0013938341\n",
      "0.0011799347\n",
      "0.0009987504\n",
      "0.0008457442\n",
      "0.00071599\n",
      "0.00060615357\n",
      "0.0005134157\n",
      "0.00043485928\n",
      "0.00036836835\n",
      "0.00031201774\n",
      "0.00026431205\n",
      "0.0002238947\n",
      "0.00018972381\n",
      "0.00016080044\n",
      "0.0001362445\n",
      "0.00011549842\n",
      "9.791202e-05\n",
      "8.294369e-05\n"
     ]
    }
   ],
   "source": [
    "# model weights\n",
    "params = {\n",
    "    'w': jnp.zeros(X.shape[1:]),\n",
    "    'b': 0.\n",
    "}\n",
    "\n",
    "\n",
    "def forward(params, X):\n",
    "    return jnp.dot(X, params['w']) + params['b']\n",
    "\n",
    "\n",
    "def loss_fn(params, X, y):\n",
    "    err = forward(params, X) - y\n",
    "    return jnp.mean(jnp.square(err))  # mse\n",
    "\n",
    "\n",
    "grad_fn = jax.grad(loss_fn)\n",
    "\n",
    "\n",
    "def update(params, grads):\n",
    "    # return jax.tree_map(lambda p, g: p - 0.05 * g, params, grads)\n",
    "    return jax.tree.map(lambda p, g: p - 0.05 * g, params, grads)\n",
    "\n",
    "\n",
    "# the main training loop\n",
    "for _ in range(100):\n",
    "    loss = loss_fn(params, X_test, y_test)\n",
    "    print(loss)\n",
    "\n",
    "    grads = grad_fn(params, X, y)\n",
    "    params = update(params, grads)"
   ]
  }
 ],
 "metadata": {
  "kernelspec": {
   "display_name": "conda-jax",
   "language": "python",
   "name": "python3"
  },
  "language_info": {
   "codemirror_mode": {
    "name": "ipython",
    "version": 3
   },
   "file_extension": ".py",
   "mimetype": "text/x-python",
   "name": "python",
   "nbconvert_exporter": "python",
   "pygments_lexer": "ipython3",
   "version": "3.12.4"
  }
 },
 "nbformat": 4,
 "nbformat_minor": 2
}
