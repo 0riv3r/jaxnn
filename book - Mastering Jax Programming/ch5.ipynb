{
 "cells": [
  {
   "cell_type": "code",
   "execution_count": 4,
   "metadata": {},
   "outputs": [
    {
     "name": "stdout",
     "output_type": "stream",
     "text": [
      "0.4.30\n"
     ]
    }
   ],
   "source": [
    "import jax\n",
    "print(jax.__version__)"
   ]
  },
  {
   "cell_type": "code",
   "execution_count": 8,
   "metadata": {},
   "outputs": [
    {
     "name": "stdout",
     "output_type": "stream",
     "text": [
      "[CpuDevice(id=0)]\n",
      "1\n",
      "[CpuDevice(id=0)]\n",
      "<contextlib._GeneratorContextManager object at 0x7f0bf4564770>\n"
     ]
    }
   ],
   "source": [
    "print(jax.devices())\n",
    "print(jax.device_count())\n",
    "print(jax.local_devices())\n",
    "print(jax.default_device())"
   ]
  },
  {
   "cell_type": "markdown",
   "metadata": {},
   "source": [
    "### Network architecture definition"
   ]
  },
  {
   "cell_type": "code",
   "execution_count": null,
   "metadata": {},
   "outputs": [],
   "source": [
    "import jax.numpy as jnp\n",
    "\n",
    "def neural_network(x):\n",
    "  layer1 = jnp.tanh(jnp.dot(x, W1) + b1)\n",
    "  output = jnp.dot(layer1, W2) + b2\n",
    "  return output"
   ]
  },
  {
   "cell_type": "markdown",
   "metadata": {},
   "source": [
    "#### Parameter Initialization"
   ]
  },
  {
   "cell_type": "code",
   "execution_count": null,
   "metadata": {},
   "outputs": [],
   "source": [
    "W1 = jnp.random.normal(key, (input_dim, hidden_dim))"
   ]
  },
  {
   "cell_type": "code",
   "execution_count": null,
   "metadata": {},
   "outputs": [],
   "source": []
  },
  {
   "cell_type": "code",
   "execution_count": null,
   "metadata": {},
   "outputs": [],
   "source": []
  },
  {
   "cell_type": "markdown",
   "metadata": {},
   "source": [
    "## Optimizer implementation in JAX"
   ]
  },
  {
   "cell_type": "code",
   "execution_count": 2,
   "metadata": {},
   "outputs": [
    {
     "name": "stdout",
     "output_type": "stream",
     "text": [
      "Updated params: [Array([0.995, 1.99 ], dtype=float32), Array([2.98], dtype=float32)]\n"
     ]
    }
   ],
   "source": [
    "import jax\n",
    "import jax.numpy as jnp\n",
    "\n",
    "def sgd_optimizer(params, gradients, learning_rate):\n",
    "  updated_params = [params - learning_rate * grad for params, grad in zip(params, gradients)]\n",
    "  return updated_params\n",
    "\n",
    "# Example usage\n",
    "params = [jnp.array([1.0, 2.0]), jnp.array([3.0])]\n",
    "gradients = [jnp.array([0.5, 1.0]), jnp.array([2.0])]\n",
    "learning_rate = 0.01\n",
    "\n",
    "updated_params = sgd_optimizer(params, gradients, learning_rate)\n",
    "print(f\"Updated params: {updated_params}\")"
   ]
  },
  {
   "cell_type": "code",
   "execution_count": null,
   "metadata": {},
   "outputs": [],
   "source": []
  }
 ],
 "metadata": {
  "kernelspec": {
   "display_name": ".venv_p312_jax",
   "language": "python",
   "name": "python3"
  },
  "language_info": {
   "codemirror_mode": {
    "name": "ipython",
    "version": 3
   },
   "file_extension": ".py",
   "mimetype": "text/x-python",
   "name": "python",
   "nbconvert_exporter": "python",
   "pygments_lexer": "ipython3",
   "version": "3.12.4"
  }
 },
 "nbformat": 4,
 "nbformat_minor": 2
}
